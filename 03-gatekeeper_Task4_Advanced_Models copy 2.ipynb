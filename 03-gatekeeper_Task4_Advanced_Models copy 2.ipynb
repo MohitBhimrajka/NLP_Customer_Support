{
 "cells": [
  {
   "cell_type": "code",
   "execution_count": 1,
   "id": "9d025043",
   "metadata": {},
   "outputs": [],
   "source": [
    "import pandas as pd\n",
    "from transformers import AutoTokenizer, AutoModelForSequenceClassification, Trainer, TrainingArguments\n",
    "from datasets import Dataset, ClassLabel, Features\n",
    "from sklearn.metrics import accuracy_score, f1_score, classification_report\n",
    "import numpy as np"
   ]
  },
  {
   "cell_type": "code",
   "execution_count": 2,
   "id": "677981a9",
   "metadata": {},
   "outputs": [
    {
     "data": {
      "application/vnd.jupyter.widget-view+json": {
       "model_id": "03f2e57051f0457baa646ed8b8e7ff80",
       "version_major": 2,
       "version_minor": 0
      },
      "text/plain": [
       "Casting the dataset:   0%|          | 0/8469 [00:00<?, ? examples/s]"
      ]
     },
     "metadata": {},
     "output_type": "display_data"
    }
   ],
   "source": [
    "# --- 1. Load Data and Prepare for the GATEKEEPER Model ---\n",
    "df = pd.read_parquet('processed_customer_support_data.parquet')\n",
    "\n",
    "df['combined_text'] = df['Ticket Subject'] + \" | \" + df['Cleaned_Description']\n",
    "\n",
    "# Binary label for Gatekeeper\n",
    "df['gatekeeper_label'] = df['Category'].apply(lambda x: 'Account Access' if x == 'Account Access' else 'Other')\n",
    "\n",
    "# Prepare HF dataset\n",
    "class_names_gatekeeper = ['Other', 'Account Access']\n",
    "label_map_gatekeeper = {label: i for i, label in enumerate(class_names_gatekeeper)}\n",
    "df['label'] = df['gatekeeper_label'].map(label_map_gatekeeper)\n",
    "\n",
    "df_gatekeeper = df[['combined_text', 'label', 'gatekeeper_label']].rename(columns={'combined_text': 'text'})\n",
    "\n",
    "hg_dataset_gatekeeper = Dataset.from_pandas(df_gatekeeper, preserve_index=False)\n",
    "features_gatekeeper = Features({\n",
    "    'text': hg_dataset_gatekeeper.features['text'],\n",
    "    'label': ClassLabel(names=class_names_gatekeeper),\n",
    "    'gatekeeper_label': hg_dataset_gatekeeper.features['gatekeeper_label']\n",
    "})\n",
    "hg_dataset_gatekeeper = hg_dataset_gatekeeper.cast(features_gatekeeper)"
   ]
  },
  {
   "cell_type": "code",
   "execution_count": 3,
   "id": "f65e4893",
   "metadata": {},
   "outputs": [
    {
     "data": {
      "application/vnd.jupyter.widget-view+json": {
       "model_id": "f40bd5b63f42443ba3c2cedfdfb6df49",
       "version_major": 2,
       "version_minor": 0
      },
      "text/plain": [
       "Map:   0%|          | 0/8469 [00:00<?, ? examples/s]"
      ]
     },
     "metadata": {},
     "output_type": "display_data"
    }
   ],
   "source": [
    "# --- 2. Tokenize and Split ---\n",
    "model_checkpoint = \"distilbert-base-uncased\"\n",
    "tokenizer = AutoTokenizer.from_pretrained(model_checkpoint)\n",
    "\n",
    "def tokenize_function(examples):\n",
    "    return tokenizer(examples[\"text\"], padding=\"max_length\", truncation=True, max_length=512)\n",
    "\n",
    "tokenized_datasets = hg_dataset_gatekeeper.map(tokenize_function, batched=True).remove_columns([\"text\", \"gatekeeper_label\"])\n",
    "tokenized_datasets.set_format(\"torch\")\n",
    "\n",
    "# Split into train/val/test\n",
    "split_dataset = tokenized_datasets.train_test_split(test_size=0.2, stratify_by_column=\"label\")\n",
    "train_dataset = split_dataset[\"train\"]\n",
    "eval_test_split = split_dataset[\"test\"].train_test_split(test_size=0.5, stratify_by_column=\"label\")\n",
    "eval_dataset = eval_test_split[\"train\"]\n",
    "test_dataset = eval_test_split[\"test\"]"
   ]
  },
  {
   "cell_type": "code",
   "execution_count": 4,
   "id": "4524e35b",
   "metadata": {},
   "outputs": [
    {
     "name": "stderr",
     "output_type": "stream",
     "text": [
      "Some weights of DistilBertForSequenceClassification were not initialized from the model checkpoint at distilbert-base-uncased and are newly initialized: ['classifier.bias', 'classifier.weight', 'pre_classifier.bias', 'pre_classifier.weight']\n",
      "You should probably TRAIN this model on a down-stream task to be able to use it for predictions and inference.\n",
      "/opt/anaconda3/lib/python3.12/site-packages/transformers/training_args.py:1594: FutureWarning: `evaluation_strategy` is deprecated and will be removed in version 4.46 of 🤗 Transformers. Use `eval_strategy` instead\n",
      "  warnings.warn(\n"
     ]
    }
   ],
   "source": [
    "\n",
    "# --- 3. Train the Gatekeeper Model ---\n",
    "id2label = {i: label for i, label in enumerate(class_names_gatekeeper)}\n",
    "label2id = {label: i for i, label in enumerate(class_names_gatekeeper)}\n",
    "\n",
    "model_gatekeeper = AutoModelForSequenceClassification.from_pretrained(\n",
    "    model_checkpoint, num_labels=len(class_names_gatekeeper), id2label=id2label, label2id=label2id\n",
    ")\n",
    "\n",
    "training_args_gatekeeper = TrainingArguments(\n",
    "    output_dir=\"distilbert-gatekeeper-classifier\",\n",
    "    num_train_epochs=2,\n",
    "    per_device_train_batch_size=16,\n",
    "    weight_decay=0.01,\n",
    "    evaluation_strategy=\"epoch\",\n",
    "    save_strategy=\"epoch\",\n",
    "    load_best_model_at_end=True,\n",
    "    metric_for_best_model=\"f1\",\n",
    "    greater_is_better=True,\n",
    "    dataloader_num_workers=0,\n",
    "    report_to=[]   # disable W&B/MLflow\n",
    ")"
   ]
  },
  {
   "cell_type": "code",
   "execution_count": 5,
   "id": "b34b11af",
   "metadata": {},
   "outputs": [
    {
     "name": "stderr",
     "output_type": "stream",
     "text": [
      "/var/folders/yf/9gf2xg3j2q76vf7cw8s4v4tw0000gn/T/ipykernel_35088/3400863320.py:8: FutureWarning: `tokenizer` is deprecated and will be removed in version 5.0.0 for `Trainer.__init__`. Use `processing_class` instead.\n",
      "  trainer_gatekeeper = Trainer(\n"
     ]
    }
   ],
   "source": [
    "def compute_metrics(p):\n",
    "    preds = np.argmax(p.predictions, axis=1)\n",
    "    labels = p.label_ids\n",
    "    f1 = f1_score(labels, preds, average=\"weighted\")\n",
    "    acc = accuracy_score(labels, preds)\n",
    "    return {\"accuracy\": acc, \"f1\": f1}\n",
    "\n",
    "trainer_gatekeeper = Trainer(\n",
    "    model=model_gatekeeper,\n",
    "    args=training_args_gatekeeper,\n",
    "    train_dataset=train_dataset,\n",
    "    eval_dataset=eval_dataset,\n",
    "    tokenizer=tokenizer,\n",
    "    compute_metrics=compute_metrics,\n",
    ")"
   ]
  },
  {
   "cell_type": "code",
   "execution_count": 6,
   "id": "1dcf2791",
   "metadata": {},
   "outputs": [
    {
     "name": "stdout",
     "output_type": "stream",
     "text": [
      "Starting training for the GATEKEEPER model...\n"
     ]
    },
    {
     "name": "stderr",
     "output_type": "stream",
     "text": [
      "/opt/anaconda3/lib/python3.12/site-packages/torch/utils/data/dataloader.py:683: UserWarning: 'pin_memory' argument is set as true but not supported on MPS now, then device pinned memory won't be used.\n",
      "  warnings.warn(warn_msg)\n"
     ]
    },
    {
     "data": {
      "text/html": [
       "\n",
       "    <div>\n",
       "      \n",
       "      <progress value='848' max='848' style='width:300px; height:20px; vertical-align: middle;'></progress>\n",
       "      [848/848 06:33, Epoch 2/2]\n",
       "    </div>\n",
       "    <table border=\"1\" class=\"dataframe\">\n",
       "  <thead>\n",
       " <tr style=\"text-align: left;\">\n",
       "      <th>Epoch</th>\n",
       "      <th>Training Loss</th>\n",
       "      <th>Validation Loss</th>\n",
       "      <th>Accuracy</th>\n",
       "      <th>F1</th>\n",
       "    </tr>\n",
       "  </thead>\n",
       "  <tbody>\n",
       "    <tr>\n",
       "      <td>1</td>\n",
       "      <td>No log</td>\n",
       "      <td>0.000064</td>\n",
       "      <td>1.000000</td>\n",
       "      <td>1.000000</td>\n",
       "    </tr>\n",
       "    <tr>\n",
       "      <td>2</td>\n",
       "      <td>0.015600</td>\n",
       "      <td>0.000033</td>\n",
       "      <td>1.000000</td>\n",
       "      <td>1.000000</td>\n",
       "    </tr>\n",
       "  </tbody>\n",
       "</table><p>"
      ],
      "text/plain": [
       "<IPython.core.display.HTML object>"
      ]
     },
     "metadata": {},
     "output_type": "display_data"
    },
    {
     "name": "stderr",
     "output_type": "stream",
     "text": [
      "/opt/anaconda3/lib/python3.12/site-packages/torch/utils/data/dataloader.py:683: UserWarning: 'pin_memory' argument is set as true but not supported on MPS now, then device pinned memory won't be used.\n",
      "  warnings.warn(warn_msg)\n",
      "/opt/anaconda3/lib/python3.12/site-packages/torch/utils/data/dataloader.py:683: UserWarning: 'pin_memory' argument is set as true but not supported on MPS now, then device pinned memory won't be used.\n",
      "  warnings.warn(warn_msg)\n"
     ]
    },
    {
     "name": "stdout",
     "output_type": "stream",
     "text": [
      "Gatekeeper model training complete.\n",
      "\n",
      "Evaluating the Gatekeeper model...\n"
     ]
    },
    {
     "name": "stderr",
     "output_type": "stream",
     "text": [
      "/opt/anaconda3/lib/python3.12/site-packages/torch/utils/data/dataloader.py:683: UserWarning: 'pin_memory' argument is set as true but not supported on MPS now, then device pinned memory won't be used.\n",
      "  warnings.warn(warn_msg)\n"
     ]
    },
    {
     "data": {
      "text/html": [],
      "text/plain": [
       "<IPython.core.display.HTML object>"
      ]
     },
     "metadata": {},
     "output_type": "display_data"
    },
    {
     "name": "stdout",
     "output_type": "stream",
     "text": [
      "\n",
      "Accuracy: 1.0000\n",
      "\n",
      "Classification Report:\n",
      "                precision    recall  f1-score   support\n",
      "\n",
      "         Other       1.00      1.00      1.00       796\n",
      "Account Access       1.00      1.00      1.00        51\n",
      "\n",
      "      accuracy                           1.00       847\n",
      "     macro avg       1.00      1.00      1.00       847\n",
      "  weighted avg       1.00      1.00      1.00       847\n",
      "\n",
      "\n",
      "Best Gatekeeper model saved at: distilbert-gatekeeper-classifier/checkpoint-424\n",
      "Best Gatekeeper model explicitly saved to 'best-gatekeeper-model'\n"
     ]
    }
   ],
   "source": [
    "print(\"Starting training for the GATEKEEPER model...\")\n",
    "trainer_gatekeeper.train()\n",
    "print(\"Gatekeeper model training complete.\")\n",
    "\n",
    "# --- 4. Final Evaluation on Test Set ---\n",
    "print(\"\\nEvaluating the Gatekeeper model...\")\n",
    "predictions = trainer_gatekeeper.predict(test_dataset)\n",
    "y_pred = np.argmax(predictions.predictions, axis=1)\n",
    "y_true = np.array(test_dataset['label'])\n",
    "\n",
    "print(f\"\\nAccuracy: {accuracy_score(y_true, y_pred):.4f}\")\n",
    "print(\"\\nClassification Report:\")\n",
    "print(classification_report(y_true, y_pred, target_names=class_names_gatekeeper))\n",
    "\n",
    "# Save the best model checkpoint for later use\n",
    "best_model_path = trainer_gatekeeper.state.best_model_checkpoint\n",
    "print(f\"\\nBest Gatekeeper model saved at: {best_model_path}\")\n",
    "trainer_gatekeeper.save_model(\"best-gatekeeper-model\")\n",
    "print(\"Best Gatekeeper model explicitly saved to 'best-gatekeeper-model'\")"
   ]
  }
 ],
 "metadata": {
  "kernelspec": {
   "display_name": "Python 3",
   "language": "python",
   "name": "python3"
  },
  "language_info": {
   "codemirror_mode": {
    "name": "ipython",
    "version": 3
   },
   "file_extension": ".py",
   "mimetype": "text/x-python",
   "name": "python",
   "nbconvert_exporter": "python",
   "pygments_lexer": "ipython3",
   "version": "3.12.2"
  }
 },
 "nbformat": 4,
 "nbformat_minor": 5
}
