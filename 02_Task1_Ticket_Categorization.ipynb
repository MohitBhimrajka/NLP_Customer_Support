{
 "cells": [
  {
   "cell_type": "code",
   "execution_count": 1,
   "id": "0dc911ee",
   "metadata": {},
   "outputs": [],
   "source": [
    "import pandas as pd\n",
    "from sklearn.model_selection import train_test_split\n",
    "from sklearn.feature_extraction.text import CountVectorizer\n",
    "from sklearn.linear_model import LogisticRegression\n",
    "from sklearn.metrics import accuracy_score, classification_report, confusion_matrix\n",
    "import seaborn as sns\n",
    "import matplotlib.pyplot as plt\n",
    "from sklearn.feature_extraction.text import TfidfVectorizer\n",
    "from sklearn.naive_bayes import MultinomialNB\n",
    "\n",
    "# 1. Load the processed data from Notebook 1\n",
    "df = pd.read_parquet('processed_customer_support_data.parquet')\n",
    "\n",
    "# 2. Define our features (X) and target (y)\n",
    "X = df['Cleaned_Description']\n",
    "y = df['Category']\n",
    "\n",
    "# 3. Perform the train-test split\n",
    "# We'll use an 80/20 split and stratify to maintain class distribution.\n",
    "# random_state ensures we get the same split every time we run the code.\n",
    "X_train, X_test, y_train, y_test = train_test_split(\n",
    "    X, \n",
    "    y, \n",
    "    test_size=0.2, \n",
    "    random_state=42, \n",
    "    stratify=y\n",
    ")"
   ]
  },
  {
   "cell_type": "code",
   "execution_count": 2,
   "id": "bb944554",
   "metadata": {},
   "outputs": [
    {
     "name": "stdout",
     "output_type": "stream",
     "text": [
      "Shape of X_train: (6775,)\n",
      "Shape of X_test: (1694,)\n",
      "Shape of y_train: (6775,)\n",
      "Shape of y_test: (1694,)\n"
     ]
    }
   ],
   "source": [
    "# 4. Verify the shapes of the resulting datasets\n",
    "print(\"Shape of X_train:\", X_train.shape)\n",
    "print(\"Shape of X_test:\", X_test.shape)\n",
    "print(\"Shape of y_train:\", y_train.shape)\n",
    "print(\"Shape of y_test:\", y_test.shape)"
   ]
  },
  {
   "cell_type": "code",
   "execution_count": 3,
   "id": "029d314f",
   "metadata": {},
   "outputs": [
    {
     "name": "stdout",
     "output_type": "stream",
     "text": [
      "\n",
      "Distribution in original dataset:\n",
      "Category\n",
      "Billing            0.564175\n",
      "Technical Issue    0.194592\n",
      "General Query      0.181131\n",
      "Account Access     0.060102\n",
      "Name: proportion, dtype: float64\n",
      "\n",
      "Distribution in training set:\n",
      "Category\n",
      "Billing            0.564133\n",
      "Technical Issue    0.194686\n",
      "General Query      0.181107\n",
      "Account Access     0.060074\n",
      "Name: proportion, dtype: float64\n",
      "\n",
      "Distribution in testing set:\n",
      "Category\n",
      "Billing            0.564345\n",
      "Technical Issue    0.194215\n",
      "General Query      0.181228\n",
      "Account Access     0.060213\n",
      "Name: proportion, dtype: float64\n"
     ]
    }
   ],
   "source": [
    "# Let's also verify the distribution in the training and testing sets\n",
    "print(\"\\nDistribution in original dataset:\")\n",
    "print(y.value_counts(normalize=True))\n",
    "print(\"\\nDistribution in training set:\")\n",
    "print(y_train.value_counts(normalize=True))\n",
    "print(\"\\nDistribution in testing set:\")\n",
    "print(y_test.value_counts(normalize=True))"
   ]
  },
  {
   "cell_type": "code",
   "execution_count": 4,
   "id": "28b1b279",
   "metadata": {},
   "outputs": [
    {
     "name": "stdout",
     "output_type": "stream",
     "text": [
      "Step 1: Vectorizing the text data...\n",
      "Vectorization complete.\n",
      "Vocabulary size: 5312\n",
      "Shape of X_train_vectors: (6775, 5312)\n"
     ]
    }
   ],
   "source": [
    "# 1. Vectorize the text data using CountVectorizer\n",
    "print(\"Step 1: Vectorizing the text data...\")\n",
    "vectorizer = CountVectorizer()\n",
    "X_train_vectors = vectorizer.fit_transform(X_train)\n",
    "X_test_vectors = vectorizer.transform(X_test) # Use transform only, no fitting on test data\n",
    "print(\"Vectorization complete.\")\n",
    "print(\"Vocabulary size:\", len(vectorizer.get_feature_names_out()))\n",
    "print(\"Shape of X_train_vectors:\", X_train_vectors.shape)"
   ]
  },
  {
   "cell_type": "code",
   "execution_count": 5,
   "id": "af0cd7e8",
   "metadata": {},
   "outputs": [
    {
     "name": "stdout",
     "output_type": "stream",
     "text": [
      "\n",
      "Step 2: Training the Logistic Regression model...\n",
      "Model training complete.\n"
     ]
    }
   ],
   "source": [
    "# 2. Train the Logistic Regression model\n",
    "print(\"\\nStep 2: Training the Logistic Regression model...\")\n",
    "log_reg = LogisticRegression(max_iter=1000) # Increased max_iter for convergence\n",
    "log_reg.fit(X_train_vectors, y_train)\n",
    "print(\"Model training complete.\")"
   ]
  },
  {
   "cell_type": "code",
   "execution_count": 6,
   "id": "66196746",
   "metadata": {},
   "outputs": [
    {
     "name": "stdout",
     "output_type": "stream",
     "text": [
      "\n",
      "Step 3: Making predictions on the test data...\n",
      "Prediction complete.\n"
     ]
    }
   ],
   "source": [
    "# 3. Make predictions on the test data\n",
    "print(\"\\nStep 3: Making predictions on the test data...\")\n",
    "y_pred = log_reg.predict(X_test_vectors)\n",
    "print(\"Prediction complete.\")"
   ]
  },
  {
   "cell_type": "code",
   "execution_count": 7,
   "id": "ba82f1bf",
   "metadata": {},
   "outputs": [
    {
     "name": "stdout",
     "output_type": "stream",
     "text": [
      "\n",
      "Step 4: Evaluating the model...\n",
      "Accuracy: 0.5077\n",
      "\n",
      "Classification Report:\n",
      "                 precision    recall  f1-score   support\n",
      "\n",
      " Account Access       0.07      0.01      0.02       102\n",
      "        Billing       0.57      0.83      0.68       956\n",
      "  General Query       0.20      0.08      0.12       307\n",
      "Technical Issue       0.24      0.11      0.15       329\n",
      "\n",
      "       accuracy                           0.51      1694\n",
      "      macro avg       0.27      0.26      0.24      1694\n",
      "   weighted avg       0.41      0.51      0.43      1694\n",
      "\n"
     ]
    }
   ],
   "source": [
    "# 4. Evaluate the model\n",
    "print(\"\\nStep 4: Evaluating the model...\")\n",
    "\n",
    "# Accuracy\n",
    "accuracy = accuracy_score(y_test, y_pred)\n",
    "print(f\"Accuracy: {accuracy:.4f}\")\n",
    "\n",
    "# Classification Report (Precision, Recall, F1-score)\n",
    "print(\"\\nClassification Report:\")\n",
    "print(classification_report(y_test, y_pred))"
   ]
  },
  {
   "cell_type": "code",
   "execution_count": 8,
   "id": "731e4bb0",
   "metadata": {},
   "outputs": [
    {
     "name": "stdout",
     "output_type": "stream",
     "text": [
      "\n",
      "Confusion Matrix:\n"
     ]
    },
    {
     "data": {
      "image/png": "[encoded data removed]",
      "text/plain": [
       "<Figure size 800x600 with 2 Axes>"
      ]
     },
     "metadata": {},
     "output_type": "display_data"
    }
   ],
   "source": [
    "# Confusion Matrix\n",
    "print(\"\\nConfusion Matrix:\")\n",
    "cm = confusion_matrix(y_test, y_pred)\n",
    "plt.figure(figsize=(8, 6))\n",
    "sns.heatmap(cm, annot=True, fmt='d', cmap='Blues', \n",
    "            xticklabels=log_reg.classes_, yticklabels=log_reg.classes_)\n",
    "plt.xlabel('Predicted')\n",
    "plt.ylabel('Actual')\n",
    "plt.title('Confusion Matrix - Logistic Regression')\n",
    "plt.show()"
   ]
  },
  {
   "cell_type": "code",
   "execution_count": 9,
   "id": "01573a9b",
   "metadata": {},
   "outputs": [
    {
     "name": "stdout",
     "output_type": "stream",
     "text": [
      "Step 1: Vectorizing the text data with TF-IDF...\n",
      "Vectorization complete.\n",
      "Vocabulary size: 5312\n"
     ]
    }
   ],
   "source": [
    "# 1. Vectorize the text data using TfidfVectorizer\n",
    "print(\"Step 1: Vectorizing the text data with TF-IDF...\")\n",
    "tfidf_vectorizer = TfidfVectorizer()\n",
    "X_train_tfidf = tfidf_vectorizer.fit_transform(X_train)\n",
    "X_test_tfidf = tfidf_vectorizer.transform(X_test)\n",
    "print(\"Vectorization complete.\")\n",
    "print(\"Vocabulary size:\", len(tfidf_vectorizer.get_feature_names_out()))"
   ]
  },
  {
   "cell_type": "code",
   "execution_count": 10,
   "id": "42be6109",
   "metadata": {},
   "outputs": [
    {
     "name": "stdout",
     "output_type": "stream",
     "text": [
      "\n",
      "Step 2: Training the Naive Bayes model...\n",
      "Model training complete.\n"
     ]
    }
   ],
   "source": [
    "# 2. Train the Multinomial Naive Bayes model\n",
    "print(\"\\nStep 2: Training the Naive Bayes model...\")\n",
    "nb_classifier = MultinomialNB()\n",
    "nb_classifier.fit(X_train_tfidf, y_train)\n",
    "print(\"Model training complete.\")"
   ]
  },
  {
   "cell_type": "code",
   "execution_count": 11,
   "id": "fb28b43f",
   "metadata": {},
   "outputs": [
    {
     "name": "stdout",
     "output_type": "stream",
     "text": [
      "\n",
      "Step 3: Making predictions...\n",
      "Prediction complete.\n"
     ]
    }
   ],
   "source": [
    "# 3. Make predictions on the test data\n",
    "print(\"\\nStep 3: Making predictions...\")\n",
    "y_pred_nb = nb_classifier.predict(X_test_tfidf)\n",
    "print(\"Prediction complete.\")"
   ]
  },
  {
   "cell_type": "code",
   "execution_count": 12,
   "id": "1d863d3c",
   "metadata": {},
   "outputs": [
    {
     "name": "stdout",
     "output_type": "stream",
     "text": [
      "\n",
      "Step 4: Evaluating the Naive Bayes model...\n",
      "Accuracy: 0.5643\n",
      "\n",
      "Classification Report:\n",
      "                 precision    recall  f1-score   support\n",
      "\n",
      " Account Access       0.00      0.00      0.00       102\n",
      "        Billing       0.56      1.00      0.72       956\n",
      "  General Query       0.00      0.00      0.00       307\n",
      "Technical Issue       0.00      0.00      0.00       329\n",
      "\n",
      "       accuracy                           0.56      1694\n",
      "      macro avg       0.14      0.25      0.18      1694\n",
      "   weighted avg       0.32      0.56      0.41      1694\n",
      "\n"
     ]
    },
    {
     "name": "stderr",
     "output_type": "stream",
     "text": [
      "/opt/anaconda3/lib/python3.12/site-packages/sklearn/metrics/_classification.py:1565: UndefinedMetricWarning: Precision is ill-defined and being set to 0.0 in labels with no predicted samples. Use `zero_division` parameter to control this behavior.\n",
      "  _warn_prf(average, modifier, f\"{metric.capitalize()} is\", len(result))\n",
      "/opt/anaconda3/lib/python3.12/site-packages/sklearn/metrics/_classification.py:1565: UndefinedMetricWarning: Precision is ill-defined and being set to 0.0 in labels with no predicted samples. Use `zero_division` parameter to control this behavior.\n",
      "  _warn_prf(average, modifier, f\"{metric.capitalize()} is\", len(result))\n",
      "/opt/anaconda3/lib/python3.12/site-packages/sklearn/metrics/_classification.py:1565: UndefinedMetricWarning: Precision is ill-defined and being set to 0.0 in labels with no predicted samples. Use `zero_division` parameter to control this behavior.\n",
      "  _warn_prf(average, modifier, f\"{metric.capitalize()} is\", len(result))\n"
     ]
    }
   ],
   "source": [
    "# 4. Evaluate the model\n",
    "print(\"\\nStep 4: Evaluating the Naive Bayes model...\")\n",
    "\n",
    "# Accuracy\n",
    "accuracy_nb = accuracy_score(y_test, y_pred_nb)\n",
    "print(f\"Accuracy: {accuracy_nb:.4f}\")\n",
    "\n",
    "# Classification Report\n",
    "print(\"\\nClassification Report:\")\n",
    "print(classification_report(y_test, y_pred_nb))"
   ]
  },
  {
   "cell_type": "code",
   "execution_count": 13,
   "id": "355daa3a",
   "metadata": {},
   "outputs": [
    {
     "name": "stdout",
     "output_type": "stream",
     "text": [
      "\n",
      "Confusion Matrix:\n"
     ]
    },
    {
     "data": {
      "image/png": "[encoded data removed]",
      "text/plain": [
       "<Figure size 800x600 with 2 Axes>"
      ]
     },
     "metadata": {},
     "output_type": "display_data"
    }
   ],
   "source": [
    "# Confusion Matrix\n",
    "print(\"\\nConfusion Matrix:\")\n",
    "cm_nb = confusion_matrix(y_test, y_pred_nb)\n",
    "plt.figure(figsize=(8, 6))\n",
    "sns.heatmap(cm_nb, annot=True, fmt='d', cmap='Blues', \n",
    "            xticklabels=nb_classifier.classes_, yticklabels=nb_classifier.classes_)\n",
    "plt.xlabel('Predicted')\n",
    "plt.ylabel('Actual')\n",
    "plt.title('Confusion Matrix - Naive Bayes (TF-IDF)')\n",
    "plt.show()"
   ]
  },
  {
   "cell_type": "markdown",
   "id": "3e41a5b9",
   "metadata": {},
   "source": [
    "---\n",
    "\n",
    "### **Improvement: A Powerful TF-IDF Pipeline with LinearSVC**\n",
    "\n",
    "Our original TF-IDF + Naive Bayes model performed poorly due to class imbalance and a simple feature representation. Here, we build a much more robust classical pipeline that addresses these issues by:\n",
    "1.  **Using N-grams:** Capturing two-word phrases (`ngram_range=(1, 2)`).\n",
    "2.  **Pruning the Vocabulary:** Ignoring very rare and very common words (`min_df`, `max_df`).\n",
    "3.  **Using a Better Classifier:** Switching from Naive Bayes to `LinearSVC`.\n",
    "4.  **Handling Class Imbalance:** Using the crucial `class_weight='balanced'` parameter.\n",
    "\n",
    "---"
   ]
  },
  {
   "cell_type": "code",
   "execution_count": 14,
   "id": "503c33fa",
   "metadata": {},
   "outputs": [
    {
     "name": "stdout",
     "output_type": "stream",
     "text": [
      "Training the improved TF-IDF + LinearSVC pipeline...\n",
      "Training complete.\n",
      "\n",
      "Accuracy of Improved Model: 0.4156\n",
      "\n",
      "Classification Report (Improved TF-IDF):\n",
      "                 precision    recall  f1-score   support\n",
      "\n",
      " Account Access       0.09      0.13      0.11       102\n",
      "        Billing       0.57      0.61      0.59       956\n",
      "  General Query       0.19      0.16      0.17       307\n",
      "Technical Issue       0.21      0.18      0.20       329\n",
      "\n",
      "       accuracy                           0.42      1694\n",
      "      macro avg       0.27      0.27      0.27      1694\n",
      "   weighted avg       0.40      0.42      0.41      1694\n",
      "\n",
      "\n",
      "Confusion Matrix (Improved TF-IDF):\n"
     ]
    },
    {
     "data": {
      "image/png": "[encoded data removed]",
      "text/plain": [
       "<Figure size 800x600 with 2 Axes>"
      ]
     },
     "metadata": {},
     "output_type": "display_data"
    }
   ],
   "source": [
    "from sklearn.pipeline import Pipeline\n",
    "from sklearn.svm import LinearSVC\n",
    "from sklearn.feature_extraction.text import TfidfVectorizer\n",
    "from sklearn.metrics import accuracy_score, classification_report, confusion_matrix\n",
    "import seaborn as sns\n",
    "import matplotlib.pyplot as plt\n",
    "\n",
    "# 1. Create a scikit-learn Pipeline\n",
    "# This chains the vectorizer and the classifier together.\n",
    "improved_tfidf_pipeline = Pipeline([\n",
    "    # Step 1: Improved TfidfVectorizer with n-grams and vocabulary pruning\n",
    "    ('tfidf', TfidfVectorizer(\n",
    "        ngram_range=(1, 2), # Use both single words and two-word phrases\n",
    "        min_df=3,             # Ignore terms that appear in fewer than 3 tickets\n",
    "        max_df=0.90           # Ignore terms that appear in more than 90% of tickets\n",
    "    )),\n",
    "    # Step 2: A more robust classifier with built-in handling for class imbalance\n",
    "    ('clf', LinearSVC(\n",
    "        class_weight='balanced', # This is the key to fixing the collapse issue\n",
    "        random_state=42,\n",
    "        max_iter=2007 # Increase iterations for convergence\n",
    "    )),\n",
    "])\n",
    "\n",
    "# 2. Train the entire improved pipeline on the training data\n",
    "print(\"Training the improved TF-IDF + LinearSVC pipeline...\")\n",
    "improved_tfidf_pipeline.fit(X_train, y_train)\n",
    "print(\"Training complete.\")\n",
    "\n",
    "# 3. Make predictions on the test data\n",
    "y_pred_improved = improved_tfidf_pipeline.predict(X_test)\n",
    "\n",
    "# 4. Evaluate the improved model's performance\n",
    "print(f\"\\nAccuracy of Improved Model: {accuracy_score(y_test, y_pred_improved):.4f}\")\n",
    "\n",
    "print(\"\\nClassification Report (Improved TF-IDF):\")\n",
    "print(classification_report(y_test, y_pred_improved))\n",
    "\n",
    "print(\"\\nConfusion Matrix (Improved TF-IDF):\")\n",
    "cm_improved = confusion_matrix(y_test, y_pred_improved)\n",
    "plt.figure(figsize=(8, 6))\n",
    "sns.heatmap(cm_improved, annot=True, fmt='d', cmap='Blues', \n",
    "            xticklabels=improved_tfidf_pipeline.classes_, yticklabels=improved_tfidf_pipeline.classes_)\n",
    "plt.xlabel('Predicted')\n",
    "plt.ylabel('Actual')\n",
    "plt.title('Confusion Matrix - Improved TF-IDF Pipeline')\n",
    "plt.show()"
   ]
  },
  {
   "cell_type": "markdown",
   "id": "d6066831",
   "metadata": {},
   "source": [
    "### **Hyperparameter Tuning with `GridSearchCV`**\n",
    "\n",
    "**The Plan:**\n",
    "1.  **Define a Parameter Grid:** We'll create a \"grid\" of hyperparameters we want to test. This will include different `ngram_range` options, different `min_df` values for the `TfidfVectorizer`, and different values for the `C` parameter (regularization strength) of the `LinearSVC`.\n",
    "2.  **Set up `GridSearchCV`:** We'll provide our `Pipeline`, the parameter grid, and a scoring metric (we'll use `'f1_weighted'` as it's a good metric for imbalanced datasets). `GridSearchCV` will then train and evaluate a model for every single combination of these parameters using cross-validation.\n",
    "3.  **Find and Evaluate the Best Model:** After the search is complete, we'll identify the best combination of parameters and then use that best-performing model to make a final prediction on our held-out test set.\n",
    "\n",
    "**Warning:** This process is computationally intensive as it trains many models. It might take several minutes to run."
   ]
  },
  {
   "cell_type": "code",
   "execution_count": 15,
   "id": "bae19f74",
   "metadata": {},
   "outputs": [],
   "source": [
    "from sklearn.model_selection import GridSearchCV\n",
    "\n",
    "# We use the same pipeline structure as before\n",
    "# The parameters inside are just placeholders, as GridSearchCV will overwrite them.\n",
    "pipeline_for_tuning = Pipeline([\n",
    "    ('tfidf', TfidfVectorizer()),\n",
    "    ('clf', LinearSVC(class_weight='balanced', random_state=42, max_iter=3000)),\n",
    "])\n",
    "\n",
    "# 1. Define the Parameter Grid to search over\n",
    "# Note the syntax: 'stepname__parameter'\n",
    "parameters = {\n",
    "    'tfidf__ngram_range': [(1, 1), (1, 2)],  # Test with unigrams only vs. unigrams and bigrams\n",
    "    'tfidf__min_df': [3, 5],                 # Test different minimum document frequencies\n",
    "    'clf__C': [0.1, 1, 10],                 # Test different regularization strengths for the classifier\n",
    "}\n"
   ]
  },
  {
   "cell_type": "code",
   "execution_count": 16,
   "id": "0845dc4f",
   "metadata": {},
   "outputs": [
    {
     "name": "stdout",
     "output_type": "stream",
     "text": [
      "Starting GridSearchCV for hyperparameter tuning...\n",
      "This may take several minutes...\n",
      "Fitting 5 folds for each of 12 candidates, totalling 60 fits\n",
      "[CV 1/5] END clf__C=0.1, tfidf__min_df=3, tfidf__ngram_range=(1, 1);, score=0.402 total time=   0.1s\n",
      "[CV 4/5] END clf__C=0.1, tfidf__min_df=3, tfidf__ngram_range=(1, 1);, score=0.429 total time=   0.1s\n",
      "[CV 5/5] END clf__C=0.1, tfidf__min_df=3, tfidf__ngram_range=(1, 1);, score=0.420 total time=   0.1s\n",
      "[CV 2/5] END clf__C=0.1, tfidf__min_df=3, tfidf__ngram_range=(1, 1);, score=0.416 total time=   0.1s\n",
      "[CV 3/5] END clf__C=0.1, tfidf__min_df=3, tfidf__ngram_range=(1, 1);, score=0.418 total time=   0.1s\n",
      "[CV 1/5] END clf__C=0.1, tfidf__min_df=3, tfidf__ngram_range=(1, 2);, score=0.403 total time=   0.2s\n",
      "[CV 3/5] END clf__C=0.1, tfidf__min_df=5, tfidf__ngram_range=(1, 2);, score=0.423 total time=   0.2s\n",
      "[CV 1/5] END clf__C=0.1, tfidf__min_df=5, tfidf__ngram_range=(1, 1);, score=0.403 total time=   0.1s\n",
      "[CV 1/5] END clf__C=1, tfidf__min_df=3, tfidf__ngram_range=(1, 1);, score=0.370 total time=   0.2s\n",
      "[CV 2/5] END clf__C=0.1, tfidf__min_df=3, tfidf__ngram_range=(1, 2);, score=0.420 total time=   0.2s\n",
      "[CV 4/5] END clf__C=0.1, tfidf__min_df=3, tfidf__ngram_range=(1, 2);, score=0.418 total time=   0.2s\n",
      "[CV 2/5] END clf__C=0.1, tfidf__min_df=5, tfidf__ngram_range=(1, 2);, score=0.423 total time=   0.3s\n",
      "[CV 4/5] END clf__C=0.1, tfidf__min_df=5, tfidf__ngram_range=(1, 2);, score=0.413 total time=   0.2s\n",
      "[CV 5/5] END clf__C=0.1, tfidf__min_df=5, tfidf__ngram_range=(1, 2);, score=0.428 total time=   0.2s\n",
      "[CV 3/5] END clf__C=0.1, tfidf__min_df=3, tfidf__ngram_range=(1, 2);, score=0.422 total time=   0.3s\n",
      "[CV 4/5] END clf__C=0.1, tfidf__min_df=5, tfidf__ngram_range=(1, 1);, score=0.422 total time=   0.1s\n",
      "[CV 3/5] END clf__C=0.1, tfidf__min_df=5, tfidf__ngram_range=(1, 1);, score=0.412 total time=   0.2s\n",
      "[CV 5/5] END clf__C=0.1, tfidf__min_df=3, tfidf__ngram_range=(1, 2);, score=0.425 total time=   0.2s\n",
      "[CV 2/5] END clf__C=0.1, tfidf__min_df=5, tfidf__ngram_range=(1, 1);, score=0.419 total time=   0.1s\n",
      "[CV 5/5] END clf__C=0.1, tfidf__min_df=5, tfidf__ngram_range=(1, 1);, score=0.422 total time=   0.1s\n",
      "[CV 2/5] END clf__C=1, tfidf__min_df=3, tfidf__ngram_range=(1, 1);, score=0.399 total time=   0.2s\n",
      "[CV 3/5] END clf__C=1, tfidf__min_df=3, tfidf__ngram_range=(1, 1);, score=0.380 total time=   0.2s\n",
      "[CV 5/5] END clf__C=1, tfidf__min_df=3, tfidf__ngram_range=(1, 1);, score=0.397 total time=   0.1s\n",
      "[CV 2/5] END clf__C=1, tfidf__min_df=5, tfidf__ngram_range=(1, 1);, score=0.397 total time=   0.1s\n",
      "[CV 1/5] END clf__C=1, tfidf__min_df=5, tfidf__ngram_range=(1, 1);, score=0.378 total time=   0.1s\n",
      "[CV 4/5] END clf__C=1, tfidf__min_df=3, tfidf__ngram_range=(1, 1);, score=0.387 total time=   0.2s\n",
      "[CV 1/5] END clf__C=0.1, tfidf__min_df=5, tfidf__ngram_range=(1, 2);, score=0.398 total time=   0.2s\n",
      "[CV 4/5] END clf__C=1, tfidf__min_df=5, tfidf__ngram_range=(1, 1);, score=0.385 total time=   0.1s\n",
      "[CV 3/5] END clf__C=1, tfidf__min_df=5, tfidf__ngram_range=(1, 1);, score=0.378 total time=   0.2s\n",
      "[CV 5/5] END clf__C=1, tfidf__min_df=5, tfidf__ngram_range=(1, 1);, score=0.404 total time=   0.2s\n",
      "[CV 3/5] END clf__C=1, tfidf__min_df=3, tfidf__ngram_range=(1, 2);, score=0.399 total time=   0.2s\n",
      "[CV 4/5] END clf__C=1, tfidf__min_df=3, tfidf__ngram_range=(1, 2);, score=0.412 total time=   0.3s\n",
      "[CV 5/5] END clf__C=1, tfidf__min_df=3, tfidf__ngram_range=(1, 2);, score=0.384 total time=   0.3s\n",
      "[CV 2/5] END clf__C=1, tfidf__min_df=3, tfidf__ngram_range=(1, 2);, score=0.406 total time=   0.3s\n",
      "[CV 1/5] END clf__C=1, tfidf__min_df=5, tfidf__ngram_range=(1, 2);, score=0.370 total time=   0.2s\n",
      "[CV 1/5] END clf__C=1, tfidf__min_df=3, tfidf__ngram_range=(1, 2);, score=0.378 total time=   0.3s\n",
      "[CV 2/5] END clf__C=1, tfidf__min_df=5, tfidf__ngram_range=(1, 2);, score=0.405 total time=   0.3s\n",
      "[CV 3/5] END clf__C=1, tfidf__min_df=5, tfidf__ngram_range=(1, 2);, score=0.400 total time=   0.3s\n",
      "[CV 4/5] END clf__C=1, tfidf__min_df=5, tfidf__ngram_range=(1, 2);, score=0.376 total time=   0.3s\n",
      "[CV 1/5] END clf__C=10, tfidf__min_df=3, tfidf__ngram_range=(1, 1);, score=0.362 total time=   0.2s\n",
      "[CV 5/5] END clf__C=1, tfidf__min_df=5, tfidf__ngram_range=(1, 2);, score=0.394 total time=   0.3s\n",
      "[CV 3/5] END clf__C=10, tfidf__min_df=3, tfidf__ngram_range=(1, 1);, score=0.380 total time=   0.3s\n",
      "[CV 4/5] END clf__C=10, tfidf__min_df=3, tfidf__ngram_range=(1, 1);, score=0.362 total time=   0.3s\n",
      "[CV 2/5] END clf__C=10, tfidf__min_df=3, tfidf__ngram_range=(1, 1);, score=0.382 total time=   0.3s\n",
      "[CV 5/5] END clf__C=10, tfidf__min_df=3, tfidf__ngram_range=(1, 1);, score=0.381 total time=   0.3s\n",
      "[CV 2/5] END clf__C=10, tfidf__min_df=5, tfidf__ngram_range=(1, 1);, score=0.388 total time=   0.3s\n",
      "[CV 3/5] END clf__C=10, tfidf__min_df=5, tfidf__ngram_range=(1, 1);, score=0.372 total time=   0.3s\n",
      "[CV 1/5] END clf__C=10, tfidf__min_df=5, tfidf__ngram_range=(1, 1);, score=0.369 total time=   0.3s\n",
      "[CV 4/5] END clf__C=10, tfidf__min_df=5, tfidf__ngram_range=(1, 1);, score=0.369 total time=   0.3s\n",
      "[CV 5/5] END clf__C=10, tfidf__min_df=5, tfidf__ngram_range=(1, 1);, score=0.386 total time=   0.3s\n",
      "[CV 1/5] END clf__C=10, tfidf__min_df=3, tfidf__ngram_range=(1, 2);, score=0.376 total time=   0.5s\n",
      "[CV 3/5] END clf__C=10, tfidf__min_df=3, tfidf__ngram_range=(1, 2);, score=0.385 total time=   0.5s\n",
      "[CV 4/5] END clf__C=10, tfidf__min_df=3, tfidf__ngram_range=(1, 2);, score=0.393 total time=   0.5s\n",
      "[CV 2/5] END clf__C=10, tfidf__min_df=3, tfidf__ngram_range=(1, 2);, score=0.384 total time=   0.6s\n",
      "[CV 5/5] END clf__C=10, tfidf__min_df=3, tfidf__ngram_range=(1, 2);, score=0.388 total time=   0.5s\n",
      "[CV 1/5] END clf__C=10, tfidf__min_df=5, tfidf__ngram_range=(1, 2);, score=0.377 total time=   0.5s\n",
      "[CV 3/5] END clf__C=10, tfidf__min_df=5, tfidf__ngram_range=(1, 2);, score=0.387 total time=   0.4s\n",
      "[CV 2/5] END clf__C=10, tfidf__min_df=5, tfidf__ngram_range=(1, 2);, score=0.380 total time=   0.4s\n",
      "[CV 4/5] END clf__C=10, tfidf__min_df=5, tfidf__ngram_range=(1, 2);, score=0.362 total time=   0.4s\n",
      "[CV 5/5] END clf__C=10, tfidf__min_df=5, tfidf__ngram_range=(1, 2);, score=0.389 total time=   0.4s\n"
     ]
    },
    {
     "data": {
      "text/html": [
       "<style>#sk-container-id-1 {\n",
       "  /* Definition of color scheme common for light and dark mode */\n",
       "  --sklearn-color-text: #000;\n",
       "  --sklearn-color-text-muted: #666;\n",
       "  --sklearn-color-line: gray;\n",
       "  /* Definition of color scheme for unfitted estimators */\n",
       "  --sklearn-color-unfitted-level-0: #fff5e6;\n",
       "  --sklearn-color-unfitted-level-1: #f6e4d2;\n",
       "  --sklearn-color-unfitted-level-2: #ffe0b3;\n",
       "  --sklearn-color-unfitted-level-3: chocolate;\n",
       "  /* Definition of color scheme for fitted estimators */\n",
       "  --sklearn-color-fitted-level-0: #f0f8ff;\n",
       "  --sklearn-color-fitted-level-1: #d4ebff;\n",
       "  --sklearn-color-fitted-level-2: #b3dbfd;\n",
       "  --sklearn-color-fitted-level-3: cornflowerblue;\n",
       "\n",
       "  /* Specific color for light theme */\n",
       "  --sklearn-color-text-on-default-background: var(--sg-text-color, var(--theme-code-foreground, var(--jp-content-font-color1, black)));\n",
       "  --sklearn-color-background: var(--sg-background-color, var(--theme-background, var(--jp-layout-color0, white)));\n",
       "  --sklearn-color-border-box: var(--sg-text-color, var(--theme-code-foreground, var(--jp-content-font-color1, black)));\n",
       "  --sklearn-color-icon: #696969;\n",
       "\n",
       "  @media (prefers-color-scheme: dark) {\n",
       "    /* Redefinition of color scheme for dark theme */\n",
       "    --sklearn-color-text-on-default-background: var(--sg-text-color, var(--theme-code-foreground, var(--jp-content-font-color1, white)));\n",
       "    --sklearn-color-background: var(--sg-background-color, var(--theme-background, var(--jp-layout-color0, #111)));\n",
       "    --sklearn-color-border-box: var(--sg-text-color, var(--theme-code-foreground, var(--jp-content-font-color1, white)));\n",
       "    --sklearn-color-icon: #878787;\n",
       "  }\n",
       "}\n",
       "\n",
       "#sk-container-id-1 {\n",
       "  color: var(--sklearn-color-text);\n",
       "}\n",
       "\n",
       "#sk-container-id-1 pre {\n",
       "  padding: 0;\n",
       "}\n",
       "\n",
       "#sk-container-id-1 input.sk-hidden--visually {\n",
       "  border: 0;\n",
       "  clip: rect(1px 1px 1px 1px);\n",
       "  clip: rect(1px, 1px, 1px, 1px);\n",
       "  height: 1px;\n",
       "  margin: -1px;\n",
       "  overflow: hidden;\n",
       "  padding: 0;\n",
       "  position: absolute;\n",
       "  width: 1px;\n",
       "}\n",
       "\n",
       "#sk-container-id-1 div.sk-dashed-wrapped {\n",
       "  border: 1px dashed var(--sklearn-color-line);\n",
       "  margin: 0 0.4em 0.5em 0.4em;\n",
       "  box-sizing: border-box;\n",
       "  padding-bottom: 0.4em;\n",
       "  background-color: var(--sklearn-color-background);\n",
       "}\n",
       "\n",
       "#sk-container-id-1 div.sk-container {\n",
       "  /* jupyter's `normalize.less` sets `[hidden] { display: none; }`\n",
       "     but bootstrap.min.css set `[hidden] { display: none !important; }`\n",
       "     so we also need the `!important` here to be able to override the\n",
       "     default hidden behavior on the sphinx rendered scikit-learn.org.\n",
       "     See: https://github.com/scikit-learn/scikit-learn/issues/21755 */\n",
       "  display: inline-block !important;\n",
       "  position: relative;\n",
       "}\n",
       "\n",
       "#sk-container-id-1 div.sk-text-repr-fallback {\n",
       "  display: none;\n",
       "}\n",
       "\n",
       "div.sk-parallel-item,\n",
       "div.sk-serial,\n",
       "div.sk-item {\n",
       "  /* draw centered vertical line to link estimators */\n",
       "  background-image: linear-gradient(var(--sklearn-color-text-on-default-background), var(--sklearn-color-text-on-default-background));\n",
       "  background-size: 2px 100%;\n",
       "  background-repeat: no-repeat;\n",
       "  background-position: center center;\n",
       "}\n",
       "\n",
       "/* Parallel-specific style estimator block */\n",
       "\n",
       "#sk-container-id-1 div.sk-parallel-item::after {\n",
       "  content: \"\";\n",
       "  width: 100%;\n",
       "  border-bottom: 2px solid var(--sklearn-color-text-on-default-background);\n",
       "  flex-grow: 1;\n",
       "}\n",
       "\n",
       "#sk-container-id-1 div.sk-parallel {\n",
       "  display: flex;\n",
       "  align-items: stretch;\n",
       "  justify-content: center;\n",
       "  background-color: var(--sklearn-color-background);\n",
       "  position: relative;\n",
       "}\n",
       "\n",
       "#sk-container-id-1 div.sk-parallel-item {\n",
       "  display: flex;\n",
       "  flex-direction: column;\n",
       "}\n",
       "\n",
       "#sk-container-id-1 div.sk-parallel-item:first-child::after {\n",
       "  align-self: flex-end;\n",
       "  width: 50%;\n",
       "}\n",
       "\n",
       "#sk-container-id-1 div.sk-parallel-item:last-child::after {\n",
       "  align-self: flex-start;\n",
       "  width: 50%;\n",
       "}\n",
       "\n",
       "#sk-container-id-1 div.sk-parallel-item:only-child::after {\n",
       "  width: 0;\n",
       "}\n",
       "\n",
       "/* Serial-specific style estimator block */\n",
       "\n",
       "#sk-container-id-1 div.sk-serial {\n",
       "  display: flex;\n",
       "  flex-direction: column;\n",
       "  align-items: center;\n",
       "  background-color: var(--sklearn-color-background);\n",
       "  padding-right: 1em;\n",
       "  padding-left: 1em;\n",
       "}\n",
       "\n",
       "\n",
       "/* Toggleable style: style used for estimator/Pipeline/ColumnTransformer box that is\n",
       "clickable and can be expanded/collapsed.\n",
       "- Pipeline and ColumnTransformer use this feature and define the default style\n",
       "- Estimators will overwrite some part of the style using the `sk-estimator` class\n",
       "*/\n",
       "\n",
       "/* Pipeline and ColumnTransformer style (default) */\n",
       "\n",
       "#sk-container-id-1 div.sk-toggleable {\n",
       "  /* Default theme specific background. It is overwritten whether we have a\n",
       "  specific estimator or a Pipeline/ColumnTransformer */\n",
       "  background-color: var(--sklearn-color-background);\n",
       "}\n",
       "\n",
       "/* Toggleable label */\n",
       "#sk-container-id-1 label.sk-toggleable__label {\n",
       "  cursor: pointer;\n",
       "  display: flex;\n",
       "  width: 100%;\n",
       "  margin-bottom: 0;\n",
       "  padding: 0.5em;\n",
       "  box-sizing: border-box;\n",
       "  text-align: center;\n",
       "  align-items: start;\n",
       "  justify-content: space-between;\n",
       "  gap: 0.5em;\n",
       "}\n",
       "\n",
       "#sk-container-id-1 label.sk-toggleable__label .caption {\n",
       "  font-size: 0.6rem;\n",
       "  font-weight: lighter;\n",
       "  color: var(--sklearn-color-text-muted);\n",
       "}\n",
       "\n",
       "#sk-container-id-1 label.sk-toggleable__label-arrow:before {\n",
       "  /* Arrow on the left of the label */\n",
       "  content: \"▸\";\n",
       "  float: left;\n",
       "  margin-right: 0.25em;\n",
       "  color: var(--sklearn-color-icon);\n",
       "}\n",
       "\n",
       "#sk-container-id-1 label.sk-toggleable__label-arrow:hover:before {\n",
       "  color: var(--sklearn-color-text);\n",
       "}\n",
       "\n",
       "/* Toggleable content - dropdown */\n",
       "\n",
       "#sk-container-id-1 div.sk-toggleable__content {\n",
       "  max-height: 0;\n",
       "  max-width: 0;\n",
       "  overflow: hidden;\n",
       "  text-align: left;\n",
       "  /* unfitted */\n",
       "  background-color: var(--sklearn-color-unfitted-level-0);\n",
       "}\n",
       "\n",
       "#sk-container-id-1 div.sk-toggleable__content.fitted {\n",
       "  /* fitted */\n",
       "  background-color: var(--sklearn-color-fitted-level-0);\n",
       "}\n",
       "\n",
       "#sk-container-id-1 div.sk-toggleable__content pre {\n",
       "  margin: 0.2em;\n",
       "  border-radius: 0.25em;\n",
       "  color: var(--sklearn-color-text);\n",
       "  /* unfitted */\n",
       "  background-color: var(--sklearn-color-unfitted-level-0);\n",
       "}\n",
       "\n",
       "#sk-container-id-1 div.sk-toggleable__content.fitted pre {\n",
       "  /* unfitted */\n",
       "  background-color: var(--sklearn-color-fitted-level-0);\n",
       "}\n",
       "\n",
       "#sk-container-id-1 input.sk-toggleable__control:checked~div.sk-toggleable__content {\n",
       "  /* Expand drop-down */\n",
       "  max-height: 200px;\n",
       "  max-width: 100%;\n",
       "  overflow: auto;\n",
       "}\n",
       "\n",
       "#sk-container-id-1 input.sk-toggleable__control:checked~label.sk-toggleable__label-arrow:before {\n",
       "  content: \"▾\";\n",
       "}\n",
       "\n",
       "/* Pipeline/ColumnTransformer-specific style */\n",
       "\n",
       "#sk-container-id-1 div.sk-label input.sk-toggleable__control:checked~label.sk-toggleable__label {\n",
       "  color: var(--sklearn-color-text);\n",
       "  background-color: var(--sklearn-color-unfitted-level-2);\n",
       "}\n",
       "\n",
       "#sk-container-id-1 div.sk-label.fitted input.sk-toggleable__control:checked~label.sk-toggleable__label {\n",
       "  background-color: var(--sklearn-color-fitted-level-2);\n",
       "}\n",
       "\n",
       "/* Estimator-specific style */\n",
       "\n",
       "/* Colorize estimator box */\n",
       "#sk-container-id-1 div.sk-estimator input.sk-toggleable__control:checked~label.sk-toggleable__label {\n",
       "  /* unfitted */\n",
       "  background-color: var(--sklearn-color-unfitted-level-2);\n",
       "}\n",
       "\n",
       "#sk-container-id-1 div.sk-estimator.fitted input.sk-toggleable__control:checked~label.sk-toggleable__label {\n",
       "  /* fitted */\n",
       "  background-color: var(--sklearn-color-fitted-level-2);\n",
       "}\n",
       "\n",
       "#sk-container-id-1 div.sk-label label.sk-toggleable__label,\n",
       "#sk-container-id-1 div.sk-label label {\n",
       "  /* The background is the default theme color */\n",
       "  color: var(--sklearn-color-text-on-default-background);\n",
       "}\n",
       "\n",
       "/* On hover, darken the color of the background */\n",
       "#sk-container-id-1 div.sk-label:hover label.sk-toggleable__label {\n",
       "  color: var(--sklearn-color-text);\n",
       "  background-color: var(--sklearn-color-unfitted-level-2);\n",
       "}\n",
       "\n",
       "/* Label box, darken color on hover, fitted */\n",
       "#sk-container-id-1 div.sk-label.fitted:hover label.sk-toggleable__label.fitted {\n",
       "  color: var(--sklearn-color-text);\n",
       "  background-color: var(--sklearn-color-fitted-level-2);\n",
       "}\n",
       "\n",
       "/* Estimator label */\n",
       "\n",
       "#sk-container-id-1 div.sk-label label {\n",
       "  font-family: monospace;\n",
       "  font-weight: bold;\n",
       "  display: inline-block;\n",
       "  line-height: 1.2em;\n",
       "}\n",
       "\n",
       "#sk-container-id-1 div.sk-label-container {\n",
       "  text-align: center;\n",
       "}\n",
       "\n",
       "/* Estimator-specific */\n",
       "#sk-container-id-1 div.sk-estimator {\n",
       "  font-family: monospace;\n",
       "  border: 1px dotted var(--sklearn-color-border-box);\n",
       "  border-radius: 0.25em;\n",
       "  box-sizing: border-box;\n",
       "  margin-bottom: 0.5em;\n",
       "  /* unfitted */\n",
       "  background-color: var(--sklearn-color-unfitted-level-0);\n",
       "}\n",
       "\n",
       "#sk-container-id-1 div.sk-estimator.fitted {\n",
       "  /* fitted */\n",
       "  background-color: var(--sklearn-color-fitted-level-0);\n",
       "}\n",
       "\n",
       "/* on hover */\n",
       "#sk-container-id-1 div.sk-estimator:hover {\n",
       "  /* unfitted */\n",
       "  background-color: var(--sklearn-color-unfitted-level-2);\n",
       "}\n",
       "\n",
       "#sk-container-id-1 div.sk-estimator.fitted:hover {\n",
       "  /* fitted */\n",
       "  background-color: var(--sklearn-color-fitted-level-2);\n",
       "}\n",
       "\n",
       "/* Specification for estimator info (e.g. \"i\" and \"?\") */\n",
       "\n",
       "/* Common style for \"i\" and \"?\" */\n",
       "\n",
       ".sk-estimator-doc-link,\n",
       "a:link.sk-estimator-doc-link,\n",
       "a:visited.sk-estimator-doc-link {\n",
       "  float: right;\n",
       "  font-size: smaller;\n",
       "  line-height: 1em;\n",
       "  font-family: monospace;\n",
       "  background-color: var(--sklearn-color-background);\n",
       "  border-radius: 1em;\n",
       "  height: 1em;\n",
       "  width: 1em;\n",
       "  text-decoration: none !important;\n",
       "  margin-left: 0.5em;\n",
       "  text-align: center;\n",
       "  /* unfitted */\n",
       "  border: var(--sklearn-color-unfitted-level-1) 1pt solid;\n",
       "  color: var(--sklearn-color-unfitted-level-1);\n",
       "}\n",
       "\n",
       ".sk-estimator-doc-link.fitted,\n",
       "a:link.sk-estimator-doc-link.fitted,\n",
       "a:visited.sk-estimator-doc-link.fitted {\n",
       "  /* fitted */\n",
       "  border: var(--sklearn-color-fitted-level-1) 1pt solid;\n",
       "  color: var(--sklearn-color-fitted-level-1);\n",
       "}\n",
       "\n",
       "/* On hover */\n",
       "div.sk-estimator:hover .sk-estimator-doc-link:hover,\n",
       ".sk-estimator-doc-link:hover,\n",
       "div.sk-label-container:hover .sk-estimator-doc-link:hover,\n",
       ".sk-estimator-doc-link:hover {\n",
       "  /* unfitted */\n",
       "  background-color: var(--sklearn-color-unfitted-level-3);\n",
       "  color: var(--sklearn-color-background);\n",
       "  text-decoration: none;\n",
       "}\n",
       "\n",
       "div.sk-estimator.fitted:hover .sk-estimator-doc-link.fitted:hover,\n",
       ".sk-estimator-doc-link.fitted:hover,\n",
       "div.sk-label-container:hover .sk-estimator-doc-link.fitted:hover,\n",
       ".sk-estimator-doc-link.fitted:hover {\n",
       "  /* fitted */\n",
       "  background-color: var(--sklearn-color-fitted-level-3);\n",
       "  color: var(--sklearn-color-background);\n",
       "  text-decoration: none;\n",
       "}\n",
       "\n",
       "/* Span, style for the box shown on hovering the info icon */\n",
       ".sk-estimator-doc-link span {\n",
       "  display: none;\n",
       "  z-index: 9999;\n",
       "  position: relative;\n",
       "  font-weight: normal;\n",
       "  right: .2ex;\n",
       "  padding: .5ex;\n",
       "  margin: .5ex;\n",
       "  width: min-content;\n",
       "  min-width: 20ex;\n",
       "  max-width: 50ex;\n",
       "  color: var(--sklearn-color-text);\n",
       "  box-shadow: 2pt 2pt 4pt #999;\n",
       "  /* unfitted */\n",
       "  background: var(--sklearn-color-unfitted-level-0);\n",
       "  border: .5pt solid var(--sklearn-color-unfitted-level-3);\n",
       "}\n",
       "\n",
       ".sk-estimator-doc-link.fitted span {\n",
       "  /* fitted */\n",
       "  background: var(--sklearn-color-fitted-level-0);\n",
       "  border: var(--sklearn-color-fitted-level-3);\n",
       "}\n",
       "\n",
       ".sk-estimator-doc-link:hover span {\n",
       "  display: block;\n",
       "}\n",
       "\n",
       "/* \"?\"-specific style due to the `<a>` HTML tag */\n",
       "\n",
       "#sk-container-id-1 a.estimator_doc_link {\n",
       "  float: right;\n",
       "  font-size: 1rem;\n",
       "  line-height: 1em;\n",
       "  font-family: monospace;\n",
       "  background-color: var(--sklearn-color-background);\n",
       "  border-radius: 1rem;\n",
       "  height: 1rem;\n",
       "  width: 1rem;\n",
       "  text-decoration: none;\n",
       "  /* unfitted */\n",
       "  color: var(--sklearn-color-unfitted-level-1);\n",
       "  border: var(--sklearn-color-unfitted-level-1) 1pt solid;\n",
       "}\n",
       "\n",
       "#sk-container-id-1 a.estimator_doc_link.fitted {\n",
       "  /* fitted */\n",
       "  border: var(--sklearn-color-fitted-level-1) 1pt solid;\n",
       "  color: var(--sklearn-color-fitted-level-1);\n",
       "}\n",
       "\n",
       "/* On hover */\n",
       "#sk-container-id-1 a.estimator_doc_link:hover {\n",
       "  /* unfitted */\n",
       "  background-color: var(--sklearn-color-unfitted-level-3);\n",
       "  color: var(--sklearn-color-background);\n",
       "  text-decoration: none;\n",
       "}\n",
       "\n",
       "#sk-container-id-1 a.estimator_doc_link.fitted:hover {\n",
       "  /* fitted */\n",
       "  background-color: var(--sklearn-color-fitted-level-3);\n",
       "}\n",
       "</style><div id=\"sk-container-id-1\" class=\"sk-top-container\"><div class=\"sk-text-repr-fallback\"><pre>GridSearchCV(cv=5,\n",
       "             estimator=Pipeline(steps=[(&#x27;tfidf&#x27;, TfidfVectorizer()),\n",
       "                                       (&#x27;clf&#x27;,\n",
       "                                        LinearSVC(class_weight=&#x27;balanced&#x27;,\n",
       "                                                  max_iter=3000,\n",
       "                                                  random_state=42))]),\n",
       "             n_jobs=-1,\n",
       "             param_grid={&#x27;clf__C&#x27;: [0.1, 1, 10], &#x27;tfidf__min_df&#x27;: [3, 5],\n",
       "                         &#x27;tfidf__ngram_range&#x27;: [(1, 1), (1, 2)]},\n",
       "             scoring=&#x27;f1_weighted&#x27;, verbose=3)</pre><b>In a Jupyter environment, please rerun this cell to show the HTML representation or trust the notebook. <br />On GitHub, the HTML representation is unable to render, please try loading this page with nbviewer.org.</b></div><div class=\"sk-container\" hidden><div class=\"sk-item sk-dashed-wrapped\"><div class=\"sk-label-container\"><div class=\"sk-label fitted sk-toggleable\"><input class=\"sk-toggleable__control sk-hidden--visually\" id=\"sk-estimator-id-1\" type=\"checkbox\" ><label for=\"sk-estimator-id-1\" class=\"sk-toggleable__label fitted sk-toggleable__label-arrow\"><div><div>GridSearchCV</div></div><div><a class=\"sk-estimator-doc-link fitted\" rel=\"noreferrer\" target=\"_blank\" href=\"https://scikit-learn.org/1.6/modules/generated/sklearn.model_selection.GridSearchCV.html\">?<span>Documentation for GridSearchCV</span></a><span class=\"sk-estimator-doc-link fitted\">i<span>Fitted</span></span></div></label><div class=\"sk-toggleable__content fitted\"><pre>GridSearchCV(cv=5,\n",
       "             estimator=Pipeline(steps=[(&#x27;tfidf&#x27;, TfidfVectorizer()),\n",
       "                                       (&#x27;clf&#x27;,\n",
       "                                        LinearSVC(class_weight=&#x27;balanced&#x27;,\n",
       "                                                  max_iter=3000,\n",
       "                                                  random_state=42))]),\n",
       "             n_jobs=-1,\n",
       "             param_grid={&#x27;clf__C&#x27;: [0.1, 1, 10], &#x27;tfidf__min_df&#x27;: [3, 5],\n",
       "                         &#x27;tfidf__ngram_range&#x27;: [(1, 1), (1, 2)]},\n",
       "             scoring=&#x27;f1_weighted&#x27;, verbose=3)</pre></div> </div></div><div class=\"sk-parallel\"><div class=\"sk-parallel-item\"><div class=\"sk-item\"><div class=\"sk-label-container\"><div class=\"sk-label fitted sk-toggleable\"><input class=\"sk-toggleable__control sk-hidden--visually\" id=\"sk-estimator-id-2\" type=\"checkbox\" ><label for=\"sk-estimator-id-2\" class=\"sk-toggleable__label fitted sk-toggleable__label-arrow\"><div><div>best_estimator_: Pipeline</div></div></label><div class=\"sk-toggleable__content fitted\"><pre>Pipeline(steps=[(&#x27;tfidf&#x27;, TfidfVectorizer(min_df=3, ngram_range=(1, 2))),\n",
       "                (&#x27;clf&#x27;,\n",
       "                 LinearSVC(C=0.1, class_weight=&#x27;balanced&#x27;, max_iter=3000,\n",
       "                           random_state=42))])</pre></div> </div></div><div class=\"sk-serial\"><div class=\"sk-item\"><div class=\"sk-serial\"><div class=\"sk-item\"><div class=\"sk-estimator fitted sk-toggleable\"><input class=\"sk-toggleable__control sk-hidden--visually\" id=\"sk-estimator-id-3\" type=\"checkbox\" ><label for=\"sk-estimator-id-3\" class=\"sk-toggleable__label fitted sk-toggleable__label-arrow\"><div><div>TfidfVectorizer</div></div><div><a class=\"sk-estimator-doc-link fitted\" rel=\"noreferrer\" target=\"_blank\" href=\"https://scikit-learn.org/1.6/modules/generated/sklearn.feature_extraction.text.TfidfVectorizer.html\">?<span>Documentation for TfidfVectorizer</span></a></div></label><div class=\"sk-toggleable__content fitted\"><pre>TfidfVectorizer(min_df=3, ngram_range=(1, 2))</pre></div> </div></div><div class=\"sk-item\"><div class=\"sk-estimator fitted sk-toggleable\"><input class=\"sk-toggleable__control sk-hidden--visually\" id=\"sk-estimator-id-4\" type=\"checkbox\" ><label for=\"sk-estimator-id-4\" class=\"sk-toggleable__label fitted sk-toggleable__label-arrow\"><div><div>LinearSVC</div></div><div><a class=\"sk-estimator-doc-link fitted\" rel=\"noreferrer\" target=\"_blank\" href=\"https://scikit-learn.org/1.6/modules/generated/sklearn.svm.LinearSVC.html\">?<span>Documentation for LinearSVC</span></a></div></label><div class=\"sk-toggleable__content fitted\"><pre>LinearSVC(C=0.1, class_weight=&#x27;balanced&#x27;, max_iter=3000, random_state=42)</pre></div> </div></div></div></div></div></div></div></div></div></div></div>"
      ],
      "text/plain": [
       "GridSearchCV(cv=5,\n",
       "             estimator=Pipeline(steps=[('tfidf', TfidfVectorizer()),\n",
       "                                       ('clf',\n",
       "                                        LinearSVC(class_weight='balanced',\n",
       "                                                  max_iter=3000,\n",
       "                                                  random_state=42))]),\n",
       "             n_jobs=-1,\n",
       "             param_grid={'clf__C': [0.1, 1, 10], 'tfidf__min_df': [3, 5],\n",
       "                         'tfidf__ngram_range': [(1, 1), (1, 2)]},\n",
       "             scoring='f1_weighted', verbose=3)"
      ]
     },
     "execution_count": 16,
     "metadata": {},
     "output_type": "execute_result"
    }
   ],
   "source": [
    "# 2. Set up GridSearchCV\n",
    "# cv=5 means 5-fold cross-validation.\n",
    "# n_jobs=-1 uses all available CPU cores to speed up the process.\n",
    "# scoring='f1_weighted' is our metric for what \"best\" means.\n",
    "grid_search = GridSearchCV(\n",
    "    pipeline_for_tuning, \n",
    "    parameters, \n",
    "    cv=5, \n",
    "    n_jobs=-1, \n",
    "    scoring='f1_weighted',\n",
    "    verbose=3 # This will print progress updates\n",
    ")\n",
    "\n",
    "print(\"Starting GridSearchCV for hyperparameter tuning...\")\n",
    "print(\"This may take several minutes...\")\n",
    "grid_search.fit(X_train, y_train)"
   ]
  },
  {
   "cell_type": "code",
   "execution_count": 17,
   "id": "d32a6b1f",
   "metadata": {},
   "outputs": [
    {
     "name": "stdout",
     "output_type": "stream",
     "text": [
      "\n",
      "--- Grid Search Results ---\n",
      "Best F1 Score (Weighted) on Cross-Validation: 0.4176\n",
      "Best parameters found:\n",
      "{'clf__C': 0.1, 'tfidf__min_df': 3, 'tfidf__ngram_range': (1, 2)}\n"
     ]
    }
   ],
   "source": [
    "# 3. Print the best parameters and the best score\n",
    "print(\"\\n--- Grid Search Results ---\")\n",
    "print(f\"Best F1 Score (Weighted) on Cross-Validation: {grid_search.best_score_:.4f}\")\n",
    "print(\"Best parameters found:\")\n",
    "print(grid_search.best_params_)"
   ]
  },
  {
   "cell_type": "code",
   "execution_count": 18,
   "id": "e7ab8dc1",
   "metadata": {},
   "outputs": [
    {
     "name": "stdout",
     "output_type": "stream",
     "text": [
      "\n",
      "--- Final Evaluation of the Best Model on the Test Set ---\n"
     ]
    }
   ],
   "source": [
    "# 4. Evaluate the single best model on our held-out test set\n",
    "print(\"\\n--- Final Evaluation of the Best Model on the Test Set ---\")\n",
    "best_model = grid_search.best_estimator_\n",
    "y_pred_best = best_model.predict(X_test)\n"
   ]
  },
  {
   "cell_type": "code",
   "execution_count": 19,
   "id": "00793832",
   "metadata": {},
   "outputs": [
    {
     "name": "stdout",
     "output_type": "stream",
     "text": [
      "\n",
      "Accuracy of Best Model: 0.4947\n",
      "\n",
      "Classification Report (Best TF-IDF Model):\n",
      "                 precision    recall  f1-score   support\n",
      "\n",
      " Account Access       0.08      0.05      0.06       102\n",
      "        Billing       0.56      0.83      0.67       956\n",
      "  General Query       0.18      0.06      0.09       307\n",
      "Technical Issue       0.16      0.05      0.08       329\n",
      "\n",
      "       accuracy                           0.49      1694\n",
      "      macro avg       0.25      0.25      0.23      1694\n",
      "   weighted avg       0.39      0.49      0.41      1694\n",
      "\n",
      "\n",
      "Confusion Matrix (Best TF-IDF Model):\n"
     ]
    },
    {
     "data": {
      "image/png": "[encoded data removed]",
      "text/plain": [
       "<Figure size 800x600 with 2 Axes>"
      ]
     },
     "metadata": {},
     "output_type": "display_data"
    }
   ],
   "source": [
    "print(f\"\\nAccuracy of Best Model: {accuracy_score(y_test, y_pred_best):.4f}\")\n",
    "print(\"\\nClassification Report (Best TF-IDF Model):\")\n",
    "print(classification_report(y_test, y_pred_best))\n",
    "\n",
    "print(\"\\nConfusion Matrix (Best TF-IDF Model):\")\n",
    "cm_best = confusion_matrix(y_test, y_pred_best)\n",
    "plt.figure(figsize=(8, 6))\n",
    "sns.heatmap(cm_best, annot=True, fmt='d', cmap='Blues', \n",
    "            xticklabels=best_model.classes_, yticklabels=best_model.classes_)\n",
    "plt.xlabel('Predicted')\n",
    "plt.ylabel('Actual')\n",
    "plt.title('Confusion Matrix - Best TF-IDF Pipeline')\n",
    "plt.show()"
   ]
  },
  {
   "cell_type": "code",
   "execution_count": 20,
   "id": "447b88f7",
   "metadata": {},
   "outputs": [],
   "source": [
    "import numpy as np\n",
    "import tensorflow as tf\n",
    "from tensorflow.keras.preprocessing.text import Tokenizer\n",
    "from tensorflow.keras.preprocessing.sequence import pad_sequences\n",
    "from tensorflow.keras.models import Sequential\n",
    "from tensorflow.keras.layers import Embedding, LSTM, Dense, Dropout\n",
    "from sklearn.preprocessing import LabelEncoder"
   ]
  },
  {
   "cell_type": "code",
   "execution_count": 21,
   "id": "d1936be8",
   "metadata": {},
   "outputs": [],
   "source": [
    "# Set parameters\n",
    "VOCAB_SIZE = 10000  # Consider the top 10,000 words\n",
    "MAX_LENGTH = 150    # Max length of a sequence\n",
    "EMBEDDING_DIM = 100 # We will use 100-dimensional GloVe embeddings\n",
    "\n",
    "# Create and fit the tokenizer on the training text\n",
    "tokenizer = Tokenizer(num_words=VOCAB_SIZE, oov_token='<OOV>') # <OOV> for out-of-vocabulary words\n",
    "tokenizer.fit_on_texts(X_train)"
   ]
  },
  {
   "cell_type": "code",
   "execution_count": 22,
   "id": "3fc87704",
   "metadata": {},
   "outputs": [
    {
     "name": "stdout",
     "output_type": "stream",
     "text": [
      "Text data prepared for the neural network.\n",
      "Shape of padded training sequences: (6775, 150)\n"
     ]
    }
   ],
   "source": [
    "# Convert text to sequences of integers\n",
    "X_train_seq = tokenizer.texts_to_sequences(X_train)\n",
    "X_test_seq = tokenizer.texts_to_sequences(X_test)\n",
    "\n",
    "# Pad the sequences to ensure they all have the same length\n",
    "X_train_pad = pad_sequences(X_train_seq, maxlen=MAX_LENGTH, padding='post', truncating='post')\n",
    "X_test_pad = pad_sequences(X_test_seq, maxlen=MAX_LENGTH, padding='post', truncating='post')\n",
    "\n",
    "print(\"Text data prepared for the neural network.\")\n",
    "print(\"Shape of padded training sequences:\", X_train_pad.shape)"
   ]
  },
  {
   "cell_type": "code",
   "execution_count": 23,
   "id": "645ad876",
   "metadata": {},
   "outputs": [
    {
     "name": "stdout",
     "output_type": "stream",
     "text": [
      "\n",
      "Labels prepared for the neural network.\n",
      "Shape of categorical training labels: (6775, 4)\n"
     ]
    }
   ],
   "source": [
    "# --- 2. Prepare Labels ---\n",
    "\n",
    "# We need to convert our text labels ('Billing', 'Technical Issue', etc.) into numbers\n",
    "label_encoder = LabelEncoder()\n",
    "y_train_encoded = label_encoder.fit_transform(y_train)\n",
    "y_test_encoded = label_encoder.transform(y_test)\n",
    "\n",
    "# We also need to one-hot encode them for the neural network's output layer\n",
    "y_train_categorical = tf.keras.utils.to_categorical(y_train_encoded)\n",
    "y_test_categorical = tf.keras.utils.to_categorical(y_test_encoded)\n",
    "\n",
    "print(\"\\nLabels prepared for the neural network.\")\n",
    "print(\"Shape of categorical training labels:\", y_train_categorical.shape)"
   ]
  },
  {
   "cell_type": "code",
   "execution_count": 24,
   "id": "be913677",
   "metadata": {},
   "outputs": [],
   "source": [
    "import os\n",
    "from sklearn.utils import class_weight\n"
   ]
  },
  {
   "cell_type": "code",
   "execution_count": 25,
   "id": "31acda46",
   "metadata": {},
   "outputs": [
    {
     "name": "stdout",
     "output_type": "stream",
     "text": [
      "Loading GloVe embeddings... (This may take a minute)\n",
      "Found 400000 word vectors.\n",
      "\n",
      "Embedding matrix created.\n"
     ]
    }
   ],
   "source": [
    "# --- 3. Load GloVe Embeddings and Create Embedding Matrix ---\n",
    "\n",
    "# Path to the GloVe file you downloaded\n",
    "GLOVE_FILE = 'glove.6B/glove.6B.100d.txt' \n",
    "\n",
    "print(\"Loading GloVe embeddings... (This may take a minute)\")\n",
    "embeddings_index = {}\n",
    "try:\n",
    "    with open(GLOVE_FILE, 'r', encoding='utf-8') as f:\n",
    "        for line in f:\n",
    "            values = line.split()\n",
    "            word = values[0]\n",
    "            coefs = np.asarray(values[1:], dtype='float32')\n",
    "            embeddings_index[word] = coefs\n",
    "except FileNotFoundError:\n",
    "    print(f\"Error: The GloVe file '{GLOVE_FILE}' was not found.\")\n",
    "    print(\"Please download it and place it in the same directory as the notebook.\")\n",
    "    # Exit or handle the error appropriately in a real script\n",
    "    exit()\n",
    "\n",
    "print(f\"Found {len(embeddings_index)} word vectors.\")\n",
    "\n",
    "# Create a weight matrix for words in our training vocabulary\n",
    "word_index = tokenizer.word_index\n",
    "embedding_matrix = np.zeros((VOCAB_SIZE, EMBEDDING_DIM))\n",
    "for word, i in word_index.items():\n",
    "    if i < VOCAB_SIZE:\n",
    "        embedding_vector = embeddings_index.get(word)\n",
    "        if embedding_vector is not None:\n",
    "            # Words not found in embedding index will be all-zeros.\n",
    "            embedding_matrix[i] = embedding_vector\n",
    "\n",
    "print(\"\\nEmbedding matrix created.\")"
   ]
  },
  {
   "cell_type": "code",
   "execution_count": 26,
   "id": "72bcf45f",
   "metadata": {},
   "outputs": [
    {
     "name": "stderr",
     "output_type": "stream",
     "text": [
      "/opt/anaconda3/lib/python3.12/site-packages/keras/src/layers/core/embedding.py:90: UserWarning: Argument `input_length` is deprecated. Just remove it.\n",
      "  warnings.warn(\n"
     ]
    },
    {
     "data": {
      "text/html": [
       "<pre style=\"white-space:pre;overflow-x:auto;line-height:normal;font-family:Menlo,'DejaVu Sans Mono',consolas,'Courier New',monospace\"><span style=\"font-weight: bold\">Model: \"sequential\"</span>\n",
       "</pre>\n"
      ],
      "text/plain": [
       "\u001b[1mModel: \"sequential\"\u001b[0m\n"
      ]
     },
     "metadata": {},
     "output_type": "display_data"
    },
    {
     "data": {
      "text/html": [
       "<pre style=\"white-space:pre;overflow-x:auto;line-height:normal;font-family:Menlo,'DejaVu Sans Mono',consolas,'Courier New',monospace\">┏━━━━━━━━━━━━━━━━━━━━━━━━━━━━━━━━━┳━━━━━━━━━━━━━━━━━━━━━━━━┳━━━━━━━━━━━━━━━┓\n",
       "┃<span style=\"font-weight: bold\"> Layer (type)                    </span>┃<span style=\"font-weight: bold\"> Output Shape           </span>┃<span style=\"font-weight: bold\">       Param # </span>┃\n",
       "┡━━━━━━━━━━━━━━━━━━━━━━━━━━━━━━━━━╇━━━━━━━━━━━━━━━━━━━━━━━━╇━━━━━━━━━━━━━━━┩\n",
       "│ embedding (<span style=\"color: #0087ff; text-decoration-color: #0087ff\">Embedding</span>)           │ ?                      │     <span style=\"color: #00af00; text-decoration-color: #00af00\">1,000,000</span> │\n",
       "├─────────────────────────────────┼────────────────────────┼───────────────┤\n",
       "│ lstm (<span style=\"color: #0087ff; text-decoration-color: #0087ff\">LSTM</span>)                     │ ?                      │   <span style=\"color: #00af00; text-decoration-color: #00af00\">0</span> (unbuilt) │\n",
       "├─────────────────────────────────┼────────────────────────┼───────────────┤\n",
       "│ dropout (<span style=\"color: #0087ff; text-decoration-color: #0087ff\">Dropout</span>)               │ ?                      │             <span style=\"color: #00af00; text-decoration-color: #00af00\">0</span> │\n",
       "├─────────────────────────────────┼────────────────────────┼───────────────┤\n",
       "│ dense (<span style=\"color: #0087ff; text-decoration-color: #0087ff\">Dense</span>)                   │ ?                      │   <span style=\"color: #00af00; text-decoration-color: #00af00\">0</span> (unbuilt) │\n",
       "└─────────────────────────────────┴────────────────────────┴───────────────┘\n",
       "</pre>\n"
      ],
      "text/plain": [
       "┏━━━━━━━━━━━━━━━━━━━━━━━━━━━━━━━━━┳━━━━━━━━━━━━━━━━━━━━━━━━┳━━━━━━━━━━━━━━━┓\n",
       "┃\u001b[1m \u001b[0m\u001b[1mLayer (type)                   \u001b[0m\u001b[1m \u001b[0m┃\u001b[1m \u001b[0m\u001b[1mOutput Shape          \u001b[0m\u001b[1m \u001b[0m┃\u001b[1m \u001b[0m\u001b[1m      Param #\u001b[0m\u001b[1m \u001b[0m┃\n",
       "┡━━━━━━━━━━━━━━━━━━━━━━━━━━━━━━━━━╇━━━━━━━━━━━━━━━━━━━━━━━━╇━━━━━━━━━━━━━━━┩\n",
       "│ embedding (\u001b[38;5;33mEmbedding\u001b[0m)           │ ?                      │     \u001b[38;5;34m1,000,000\u001b[0m │\n",
       "├─────────────────────────────────┼────────────────────────┼───────────────┤\n",
       "│ lstm (\u001b[38;5;33mLSTM\u001b[0m)                     │ ?                      │   \u001b[38;5;34m0\u001b[0m (unbuilt) │\n",
       "├─────────────────────────────────┼────────────────────────┼───────────────┤\n",
       "│ dropout (\u001b[38;5;33mDropout\u001b[0m)               │ ?                      │             \u001b[38;5;34m0\u001b[0m │\n",
       "├─────────────────────────────────┼────────────────────────┼───────────────┤\n",
       "│ dense (\u001b[38;5;33mDense\u001b[0m)                   │ ?                      │   \u001b[38;5;34m0\u001b[0m (unbuilt) │\n",
       "└─────────────────────────────────┴────────────────────────┴───────────────┘\n"
      ]
     },
     "metadata": {},
     "output_type": "display_data"
    },
    {
     "data": {
      "text/html": [
       "<pre style=\"white-space:pre;overflow-x:auto;line-height:normal;font-family:Menlo,'DejaVu Sans Mono',consolas,'Courier New',monospace\"><span style=\"font-weight: bold\"> Total params: </span><span style=\"color: #00af00; text-decoration-color: #00af00\">1,000,000</span> (3.81 MB)\n",
       "</pre>\n"
      ],
      "text/plain": [
       "\u001b[1m Total params: \u001b[0m\u001b[38;5;34m1,000,000\u001b[0m (3.81 MB)\n"
      ]
     },
     "metadata": {},
     "output_type": "display_data"
    },
    {
     "data": {
      "text/html": [
       "<pre style=\"white-space:pre;overflow-x:auto;line-height:normal;font-family:Menlo,'DejaVu Sans Mono',consolas,'Courier New',monospace\"><span style=\"font-weight: bold\"> Trainable params: </span><span style=\"color: #00af00; text-decoration-color: #00af00\">1,000,000</span> (3.81 MB)\n",
       "</pre>\n"
      ],
      "text/plain": [
       "\u001b[1m Trainable params: \u001b[0m\u001b[38;5;34m1,000,000\u001b[0m (3.81 MB)\n"
      ]
     },
     "metadata": {},
     "output_type": "display_data"
    },
    {
     "data": {
      "text/html": [
       "<pre style=\"white-space:pre;overflow-x:auto;line-height:normal;font-family:Menlo,'DejaVu Sans Mono',consolas,'Courier New',monospace\"><span style=\"font-weight: bold\"> Non-trainable params: </span><span style=\"color: #00af00; text-decoration-color: #00af00\">0</span> (0.00 B)\n",
       "</pre>\n"
      ],
      "text/plain": [
       "\u001b[1m Non-trainable params: \u001b[0m\u001b[38;5;34m0\u001b[0m (0.00 B)\n"
      ]
     },
     "metadata": {},
     "output_type": "display_data"
    }
   ],
   "source": [
    "# --- 4. Build the LSTM Model ---\n",
    "\n",
    "model = Sequential([\n",
    "    # The ONLY change is here: trainable=True\n",
    "    Embedding(VOCAB_SIZE, EMBEDDING_DIM, weights=[embedding_matrix], input_length=MAX_LENGTH, trainable=True),\n",
    "    LSTM(64, return_sequences=False),\n",
    "    Dropout(0.5),\n",
    "    Dense(y_train_categorical.shape[1], activation='softmax')\n",
    "])\n",
    "\n",
    "model.compile(loss='categorical_crossentropy', optimizer='adam', metrics=['accuracy'])\n",
    "model.summary()"
   ]
  },
  {
   "cell_type": "code",
   "execution_count": 27,
   "id": "c2719bf2",
   "metadata": {},
   "outputs": [
    {
     "name": "stdout",
     "output_type": "stream",
     "text": [
      "\n",
      "Calculated Class Weights to handle imbalance:\n",
      "{0: 4.1615479115479115, 1: 0.44315803244374674, 2: 1.38039934800326, 3: 1.2841167551175132}\n",
      "\n",
      "Training the model with fine-tuning enabled...\n",
      "Epoch 1/20\n",
      "\u001b[1m191/191\u001b[0m \u001b[32m━━━━━━━━━━━━━━━━━━━━\u001b[0m\u001b[37m\u001b[0m \u001b[1m6s\u001b[0m 30ms/step - accuracy: 0.2916 - loss: 1.3737 - val_accuracy: 0.1814 - val_loss: 1.3795\n",
      "Epoch 2/20\n",
      "\u001b[1m191/191\u001b[0m \u001b[32m━━━━━━━━━━━━━━━━━━━━\u001b[0m\u001b[37m\u001b[0m \u001b[1m6s\u001b[0m 32ms/step - accuracy: 0.3100 - loss: 1.3737 - val_accuracy: 0.1814 - val_loss: 1.4067\n",
      "Epoch 3/20\n",
      "\u001b[1m191/191\u001b[0m \u001b[32m━━━━━━━━━━━━━━━━━━━━\u001b[0m\u001b[37m\u001b[0m \u001b[1m6s\u001b[0m 31ms/step - accuracy: 0.2069 - loss: 1.3893 - val_accuracy: 0.1814 - val_loss: 1.3937\n",
      "Epoch 4/20\n",
      "\u001b[1m191/191\u001b[0m \u001b[32m━━━━━━━━━━━━━━━━━━━━\u001b[0m\u001b[37m\u001b[0m \u001b[1m6s\u001b[0m 31ms/step - accuracy: 0.1998 - loss: 1.3825 - val_accuracy: 0.5723 - val_loss: 1.3534\n",
      "Epoch 5/20\n",
      "\u001b[1m191/191\u001b[0m \u001b[32m━━━━━━━━━━━━━━━━━━━━\u001b[0m\u001b[37m\u001b[0m \u001b[1m6s\u001b[0m 31ms/step - accuracy: 0.2822 - loss: 1.3813 - val_accuracy: 0.1770 - val_loss: 1.3851\n",
      "Epoch 6/20\n",
      "\u001b[1m191/191\u001b[0m \u001b[32m━━━━━━━━━━━━━━━━━━━━\u001b[0m\u001b[37m\u001b[0m \u001b[1m6s\u001b[0m 32ms/step - accuracy: 0.2643 - loss: 1.3990 - val_accuracy: 0.1770 - val_loss: 1.3893\n",
      "Epoch 7/20\n",
      "\u001b[1m191/191\u001b[0m \u001b[32m━━━━━━━━━━━━━━━━━━━━\u001b[0m\u001b[37m\u001b[0m \u001b[1m6s\u001b[0m 31ms/step - accuracy: 0.2090 - loss: 1.3824 - val_accuracy: 0.5723 - val_loss: 1.3789\n",
      "Epoch 8/20\n",
      "\u001b[1m191/191\u001b[0m \u001b[32m━━━━━━━━━━━━━━━━━━━━\u001b[0m\u001b[37m\u001b[0m \u001b[1m6s\u001b[0m 31ms/step - accuracy: 0.2583 - loss: 1.3940 - val_accuracy: 0.1770 - val_loss: 1.3841\n",
      "Epoch 9/20\n",
      "\u001b[1m191/191\u001b[0m \u001b[32m━━━━━━━━━━━━━━━━━━━━\u001b[0m\u001b[37m\u001b[0m \u001b[1m6s\u001b[0m 32ms/step - accuracy: 0.2762 - loss: 1.3362 - val_accuracy: 0.1770 - val_loss: 1.3741\n",
      "Epoch 10/20\n",
      "\u001b[1m191/191\u001b[0m \u001b[32m━━━━━━━━━━━━━━━━━━━━\u001b[0m\u001b[37m\u001b[0m \u001b[1m6s\u001b[0m 31ms/step - accuracy: 0.2776 - loss: 1.3859 - val_accuracy: 0.1814 - val_loss: 1.3906\n",
      "Epoch 11/20\n",
      "\u001b[1m191/191\u001b[0m \u001b[32m━━━━━━━━━━━━━━━━━━━━\u001b[0m\u001b[37m\u001b[0m \u001b[1m6s\u001b[0m 30ms/step - accuracy: 0.1840 - loss: 1.3846 - val_accuracy: 0.1770 - val_loss: 1.3925\n",
      "Epoch 12/20\n",
      "\u001b[1m191/191\u001b[0m \u001b[32m━━━━━━━━━━━━━━━━━━━━\u001b[0m\u001b[37m\u001b[0m \u001b[1m6s\u001b[0m 31ms/step - accuracy: 0.2251 - loss: 1.3718 - val_accuracy: 0.0693 - val_loss: 1.3993\n",
      "Epoch 13/20\n",
      "\u001b[1m191/191\u001b[0m \u001b[32m━━━━━━━━━━━━━━━━━━━━\u001b[0m\u001b[37m\u001b[0m \u001b[1m6s\u001b[0m 31ms/step - accuracy: 0.2093 - loss: 1.3678 - val_accuracy: 0.1770 - val_loss: 1.3784\n",
      "Epoch 14/20\n",
      "\u001b[1m191/191\u001b[0m \u001b[32m━━━━━━━━━━━━━━━━━━━━\u001b[0m\u001b[37m\u001b[0m \u001b[1m6s\u001b[0m 31ms/step - accuracy: 0.2788 - loss: 1.3818 - val_accuracy: 0.1770 - val_loss: 1.3838\n",
      "Epoch 15/20\n",
      "\u001b[1m191/191\u001b[0m \u001b[32m━━━━━━━━━━━━━━━━━━━━\u001b[0m\u001b[37m\u001b[0m \u001b[1m6s\u001b[0m 31ms/step - accuracy: 0.2370 - loss: 1.3877 - val_accuracy: 0.1814 - val_loss: 1.3889\n",
      "Epoch 16/20\n",
      "\u001b[1m191/191\u001b[0m \u001b[32m━━━━━━━━━━━━━━━━━━━━\u001b[0m\u001b[37m\u001b[0m \u001b[1m6s\u001b[0m 34ms/step - accuracy: 0.2399 - loss: 1.3785 - val_accuracy: 0.5723 - val_loss: 1.3756\n",
      "Epoch 17/20\n",
      "\u001b[1m191/191\u001b[0m \u001b[32m━━━━━━━━━━━━━━━━━━━━\u001b[0m\u001b[37m\u001b[0m \u001b[1m6s\u001b[0m 32ms/step - accuracy: 0.2217 - loss: 1.4102 - val_accuracy: 0.1770 - val_loss: 1.3855\n",
      "Epoch 18/20\n",
      "\u001b[1m191/191\u001b[0m \u001b[32m━━━━━━━━━━━━━━━━━━━━\u001b[0m\u001b[37m\u001b[0m \u001b[1m7s\u001b[0m 34ms/step - accuracy: 0.2217 - loss: 1.3923 - val_accuracy: 0.1770 - val_loss: 1.3799\n",
      "Epoch 19/20\n",
      "\u001b[1m191/191\u001b[0m \u001b[32m━━━━━━━━━━━━━━━━━━━━\u001b[0m\u001b[37m\u001b[0m \u001b[1m7s\u001b[0m 35ms/step - accuracy: 0.3232 - loss: 1.3583 - val_accuracy: 0.1770 - val_loss: 1.3851\n",
      "Epoch 20/20\n",
      "\u001b[1m191/191\u001b[0m \u001b[32m━━━━━━━━━━━━━━━━━━━━\u001b[0m\u001b[37m\u001b[0m \u001b[1m7s\u001b[0m 35ms/step - accuracy: 0.3188 - loss: 1.3660 - val_accuracy: 0.1814 - val_loss: 1.3914\n",
      "Model training complete.\n"
     ]
    }
   ],
   "source": [
    "# --- Calculate Class Weights to handle imbalance ---\n",
    "# This was the missing step\n",
    "from sklearn.utils import class_weight\n",
    "\n",
    "# We need the integer-encoded training labels (y_train_encoded) from cell [18]\n",
    "class_weights = class_weight.compute_class_weight(\n",
    "    'balanced',\n",
    "    classes=np.unique(y_train_encoded),\n",
    "    y=y_train_encoded\n",
    ")\n",
    "class_weights_dict = dict(enumerate(class_weights))\n",
    "\n",
    "print(\"\\nCalculated Class Weights to handle imbalance:\")\n",
    "print(class_weights_dict)\n",
    "\n",
    "\n",
    "# --- Now, train the model ---\n",
    "print(\"\\nTraining the model with fine-tuning enabled...\")\n",
    "history = model.fit(\n",
    "    X_train_pad,\n",
    "    y_train_categorical,\n",
    "    epochs=20, # Increased to 20 epochs\n",
    "    batch_size=32,\n",
    "    validation_split=0.1,\n",
    "    class_weight=class_weights_dict, # This variable will now exist\n",
    "    verbose=1\n",
    ")\n",
    "print(\"Model training complete.\")"
   ]
  },
  {
   "cell_type": "code",
   "execution_count": 28,
   "id": "901ddf18",
   "metadata": {},
   "outputs": [
    {
     "name": "stdout",
     "output_type": "stream",
     "text": [
      "\n",
      "Evaluating the fine-tuned model on the test set...\n",
      "\u001b[1m53/53\u001b[0m \u001b[32m━━━━━━━━━━━━━━━━━━━━\u001b[0m\u001b[37m\u001b[0m \u001b[1m1s\u001b[0m 10ms/step\n",
      "Accuracy: 0.1812\n",
      "\n",
      "Classification Report:\n",
      "                 precision    recall  f1-score   support\n",
      "\n",
      " Account Access       0.00      0.00      0.00       102\n",
      "        Billing       0.00      0.00      0.00       956\n",
      "  General Query       0.18      1.00      0.31       307\n",
      "Technical Issue       0.00      0.00      0.00       329\n",
      "\n",
      "       accuracy                           0.18      1694\n",
      "      macro avg       0.05      0.25      0.08      1694\n",
      "   weighted avg       0.03      0.18      0.06      1694\n",
      "\n"
     ]
    },
    {
     "name": "stderr",
     "output_type": "stream",
     "text": [
      "/opt/anaconda3/lib/python3.12/site-packages/sklearn/metrics/_classification.py:1565: UndefinedMetricWarning: Precision is ill-defined and being set to 0.0 in labels with no predicted samples. Use `zero_division` parameter to control this behavior.\n",
      "  _warn_prf(average, modifier, f\"{metric.capitalize()} is\", len(result))\n",
      "/opt/anaconda3/lib/python3.12/site-packages/sklearn/metrics/_classification.py:1565: UndefinedMetricWarning: Precision is ill-defined and being set to 0.0 in labels with no predicted samples. Use `zero_division` parameter to control this behavior.\n",
      "  _warn_prf(average, modifier, f\"{metric.capitalize()} is\", len(result))\n",
      "/opt/anaconda3/lib/python3.12/site-packages/sklearn/metrics/_classification.py:1565: UndefinedMetricWarning: Precision is ill-defined and being set to 0.0 in labels with no predicted samples. Use `zero_division` parameter to control this behavior.\n",
      "  _warn_prf(average, modifier, f\"{metric.capitalize()} is\", len(result))\n"
     ]
    }
   ],
   "source": [
    "print(\"\\nEvaluating the fine-tuned model on the test set...\")\n",
    "y_pred_probs = model.predict(X_test_pad)\n",
    "y_pred_nn = np.argmax(y_pred_probs, axis=1)\n",
    "y_test_labels = np.argmax(y_test_categorical, axis=1)\n",
    "\n",
    "accuracy_nn = accuracy_score(y_test_labels, y_pred_nn)\n",
    "print(f\"Accuracy: {accuracy_nn:.4f}\")\n",
    "\n",
    "print(\"\\nClassification Report:\")\n",
    "print(classification_report(y_test_labels, y_pred_nn, target_names=label_encoder.classes_))"
   ]
  },
  {
   "cell_type": "code",
   "execution_count": 29,
   "id": "8645eb46",
   "metadata": {},
   "outputs": [
    {
     "name": "stdout",
     "output_type": "stream",
     "text": [
      "\n",
      "Confusion Matrix:\n"
     ]
    },
    {
     "data": {
      "image/png": "[encoded data removed]",
      "text/plain": [
       "<Figure size 800x600 with 2 Axes>"
      ]
     },
     "metadata": {},
     "output_type": "display_data"
    }
   ],
   "source": [
    "print(\"\\nConfusion Matrix:\")\n",
    "cm_nn = confusion_matrix(y_test_labels, y_pred_nn)\n",
    "plt.figure(figsize=(8, 6))\n",
    "sns.heatmap(cm_nn, annot=True, fmt='d', cmap='Blues',\n",
    "            xticklabels=label_encoder.classes_, yticklabels=label_encoder.classes_)\n",
    "plt.xlabel('Predicted')\n",
    "plt.ylabel('Actual')\n",
    "plt.title('Confusion Matrix - LSTM with Fine-Tuned GloVe')\n",
    "plt.show()"
   ]
  },
  {
   "cell_type": "markdown",
   "id": "ef9e7464",
   "metadata": {},
   "source": [
    "# Task 1: Final Summary & Conclusion\n",
    "\n",
    "This notebook explored the initial task of ticket categorization using a variety of classical and simple neural network models. The goal was to establish a performance baseline and understand the inherent difficulty of the problem.\n",
    "\n",
    "### Summary of Model Performance\n",
    "\n",
    "We tested four distinct models on the raw `Cleaned_Description` text. The results were highly informative:\n",
    "\n",
    "| Model | Key Parameters | Accuracy | Weighted F1-Score | Key Observation |\n",
    "| :--- | :--- | :--- | :--- | :--- |\n",
    "| **Logistic Regression** | `max_iter=1000` | 50.8% | 0.43 | Heavily biased towards the 'Billing' class but attempted to classify all categories. Provided a weak but functional baseline. |\n",
    "| **Naive Bayes** | (Default) | 56.4% | 0.41 | **Complete model collapse.** Learned to predict only the majority class ('Billing'). The higher accuracy is misleading. |\n",
    "| **Improved TF-IDF** | `LinearSVC`, `class_weight='balanced'`, `ngram_range=(1,2)` | 41.6% | 0.41 | **Successfully fixed the collapse.** The model actively predicts all four classes, though with low accuracy. Serves as our best *classical* baseline. |\n",
    "| **Tuned TF-IDF** | `GridSearchCV`, `clf_C=0.1`, `min_df=3`, `ngram_range=(1,2)` | **49.5%** | **0.41** | The hyperparameter tuning found minor improvements, confirming the performance limits of this approach. |\n",
    "| **LSTM w/ GloVe** | `trainable=True`, `class_weight` | 18.1% | 0.06 | **Complete model collapse.** The simple neural network architecture failed to converge and learned to predict only a single minority class ('General Query'). |\n",
    "\n",
    "---\n",
    "\n",
    "### Key Learnings & Justification for Advanced Models\n",
    "\n",
    "1.  **Class Imbalance is the Dominant Challenge:** The primary difficulty is the dataset's significant class imbalance. Simple models like Naive Bayes are completely overwhelmed by this and fail to learn. Using techniques like `class_weight='balanced'` is **essential** to prevent model collapse.\n",
    "\n",
    "2.  **Simple Text Features Have Limited Signal:** Even with improvements like n-grams and vocabulary pruning, the TF-IDF models struggled to achieve an F1-score above ~0.41. This strongly suggests that the `Cleaned_Description` text, on its own, does not contain enough clear, distinguishable keywords to effectively separate the four categories using classical methods.\n",
    "\n",
    "3.  **Basic Neural Networks Are Not a Silver Bullet:** The failure of the LSTM model demonstrates that simply using a neural network is not enough. The training was unstable, and the model could not find a meaningful pattern, even with pre-trained word embeddings.\n",
    "\n",
    "**Conclusion:**\n",
    "This notebook successfully established a robust classical baseline using the **Tuned TF-IDF Pipeline**. However, its limited performance and the failure of the simple LSTM make it clear that a more powerful, context-aware architecture is required to truly solve this problem. The results from this notebook provide a direct and compelling justification for moving on to the advanced Transformer-based models explored in the subsequent notebooks."
   ]
  },
  {
   "cell_type": "markdown",
   "id": "e4f6dc3b",
   "metadata": {},
   "source": [
    "### Deep Dive: How Hyperparameter Tuning Works\n",
    "\n",
    "In the previous step, we used `GridSearchCV` to find the best version of our TF-IDF pipeline. This process is more than just a simple search; it's a robust method for optimizing a model and understanding its behavior. Here’s a breakdown of what we did and why it matters.\n",
    "\n",
    "#### What are Hyperparameters?\n",
    "\n",
    "Hyperparameters are the \"settings\" of a machine learning model that we, the data scientists, must choose *before* the training process begins. They are not learned from the data itself. In our pipeline, the key hyperparameters were:\n",
    "\n",
    "1.  **`tfidf__ngram_range`**: Controls the features the vectorizer creates.\n",
    "    *   `(1, 1)`: Unigrams only. The model sees individual words like \"software\" and \"bug\" as separate features.\n",
    "    *   `(1, 2)`: Unigrams and Bigrams. The model sees \"software\", \"bug\", AND the combined phrase \"software bug\" as features. Bigrams often carry more specific meaning than single words, providing a richer signal.\n",
    "\n",
    "2.  **`tfidf__min_df`**: Sets a minimum document frequency threshold.\n",
    "    *   `min_df=3`: \"Ignore any word or phrase that doesn't appear in at least 3 different tickets.\"\n",
    "    *   **Why it matters:** This is a powerful noise filter. It automatically removes typos, extremely rare technical jargon, and other unique words that are unlikely to be useful for generalization. This helps prevent the model from overfitting to irrelevant details in the training data.\n",
    "\n",
    "3.  **`clf__C`**: The regularization parameter for `LinearSVC`.\n",
    "    *   **What it does:** This parameter controls the trade-off between having a simple model and fitting the training data as accurately as possible.\n",
    "    *   **Low `C` (e.g., 0.1):** High regularization. This forces the model to be simpler and creates a wider \"decision margin.\" It helps prevent overfitting but might underfit if the value is too low.\n",
    "    *   **High `C` (e.g., 10):** Low regularization. The model tries to classify every single training example correctly, which can lead to a very complex, jagged decision boundary that doesn't generalize well to new data (overfitting).\n",
    "\n",
    "#### What Does `GridSearchCV` Actually Do?\n",
    "\n",
    "`GridSearchCV` (Grid Search Cross-Validation) is a systematic brute-force optimizer.\n",
    "\n",
    "1.  **Creates a \"Grid\":** It takes our `parameters` dictionary and creates a \"to-do list\" of every single possible combination. In our case, it was 2 (`ngram_range`) * 2 (`min_df`) * 3 (`C`) = **12 unique models**.\n",
    "\n",
    "2.  **Performs Cross-Validation (The `cv=5` part):** For each of the 12 model combinations, it performs 5-fold cross-validation. This means:\n",
    "    *   It splits the **training data** into 5 smaller \"folds.\"\n",
    "    *   It trains the model on 4 of the folds and evaluates it on the 5th (held-out) fold.\n",
    "    *   It repeats this process 5 times, with each fold getting a turn as the validation set.\n",
    "    *   The 5 scores are then averaged to get a single, robust performance score for that specific parameter combination.\n",
    "    *   **Why it matters:** Cross-validation gives us a much more reliable estimate of a model's performance than a single train/validation split. It ensures the model's score isn't just a fluke based on a lucky data split.\n",
    "\n",
    "3.  **Finds the Champion:** After running this process for all 12 combinations (a total of 12 * 5 = 60 training runs), `GridSearchCV` simply looks at the average cross-validation scores and identifies the set of hyperparameters that produced the highest result (based on our `scoring='f1_weighted'` metric).\n",
    "\n",
    "#### Our Final Result and Why It Makes Sense\n",
    "\n",
    "*   **Best Parameters Found:** `{'clf__C': 0.1, 'tfidf__min_df': 3, 'tfidf__ngram_range': (1, 2)}`\n",
    "    *   **`'tfidf__ngram_range': (1, 2)`**: The grid search confirmed our hypothesis that including two-word phrases (bigrams) provides a better signal than words alone.\n",
    "    *   **`'tfidf__min_df': 3`**: It preferred a slightly more lenient vocabulary filter, suggesting that some words that appear in only 3 or 4 tickets are still valuable.\n",
    "    *   **`'clf__C': 0.1`**: This is the most interesting result. The optimizer chose a **high regularization** value. This tells us that a simpler model generalizes better for this noisy text data. It's a clear signal that trying to perfectly fit the training data leads to overfitting, and the model performs better when it's forced to be more general.\n",
    "\n",
    "By using GridSearchCV, we didn't just guess the best settings; we systematically and empirically proved which combination of vectorizer and classifier settings works best for this specific dataset.```"
   ]
  }
 ],
 "metadata": {
  "kernelspec": {
   "display_name": "Python 3",
   "language": "python",
   "name": "python3"
  },
  "language_info": {
   "codemirror_mode": {
    "name": "ipython",
    "version": 3
   },
   "file_extension": ".py",
   "mimetype": "text/x-python",
   "name": "python",
   "nbconvert_exporter": "python",
   "pygments_lexer": "ipython3",
   "version": "3.12.2"
  }
 },
 "nbformat": 4,
 "nbformat_minor": 5
}
