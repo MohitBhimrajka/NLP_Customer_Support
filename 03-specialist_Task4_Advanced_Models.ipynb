{
 "cells": [
  {
   "cell_type": "code",
   "execution_count": 1,
   "id": "9d025043",
   "metadata": {},
   "outputs": [],
   "source": [
    "import pandas as pd\n",
    "import numpy as np\n",
    "from transformers import AutoTokenizer, AutoModelForSequenceClassification, Trainer, TrainingArguments, EvalPrediction\n",
    "from datasets import Dataset, ClassLabel, Features\n",
    "from sklearn.metrics import accuracy_score, f1_score, classification_report"
   ]
  },
  {
   "cell_type": "code",
   "execution_count": 2,
   "id": "677981a9",
   "metadata": {},
   "outputs": [
    {
     "name": "stdout",
     "output_type": "stream",
     "text": [
      "Original dataset size: 8469\n",
      "Specialist dataset size (excluding Account Access): 7960\n",
      "\n",
      "New class distribution:\n",
      "Category\n",
      "Billing            0.600251\n",
      "Technical Issue    0.207035\n",
      "General Query      0.192714\n",
      "Name: proportion, dtype: float64\n"
     ]
    }
   ],
   "source": [
    "# --- 1. Load Data and Prepare for the SPECIALIST Model ---\n",
    "df_full = pd.read_parquet('processed_customer_support_data.parquet')\n",
    "\n",
    "# Exclude Account Access\n",
    "df_specialist_data = df_full[df_full['Category'] != 'Account Access'].copy()\n",
    "\n",
    "print(f\"Original dataset size: {len(df_full)}\")\n",
    "print(f\"Specialist dataset size (excluding Account Access): {len(df_specialist_data)}\")\n",
    "print(\"\\nNew class distribution:\")\n",
    "print(df_specialist_data['Category'].value_counts(normalize=True))"
   ]
  },
  {
   "cell_type": "code",
   "execution_count": 3,
   "id": "f65e4893",
   "metadata": {},
   "outputs": [
    {
     "data": {
      "application/vnd.jupyter.widget-view+json": {
       "model_id": "d87209730a3f497d9e540471bb63b365",
       "version_major": 2,
       "version_minor": 0
      },
      "text/plain": [
       "Casting the dataset:   0%|          | 0/7960 [00:00<?, ? examples/s]"
      ]
     },
     "metadata": {},
     "output_type": "display_data"
    }
   ],
   "source": [
    "# Combined text feature\n",
    "df_specialist_data['text'] = df_specialist_data['Ticket Subject'] + \" | \" + df_specialist_data['Cleaned_Description']\n",
    "\n",
    "# --- 2. Hugging Face Dataset ---\n",
    "class_names_specialist = sorted(df_specialist_data['Category'].unique().tolist())\n",
    "label_map_specialist = {label: i for i, label in enumerate(class_names_specialist)}\n",
    "df_specialist_data['label'] = df_specialist_data['Category'].map(label_map_specialist)\n",
    "\n",
    "df_specialist = df_specialist_data[['text', 'label', 'Category']]\n",
    "\n",
    "hg_dataset_specialist = Dataset.from_pandas(df_specialist, preserve_index=False)\n",
    "features_specialist = Features({\n",
    "    'text': hg_dataset_specialist.features['text'],\n",
    "    'label': ClassLabel(names=class_names_specialist),\n",
    "    'Category': hg_dataset_specialist.features['Category']\n",
    "})\n",
    "hg_dataset_specialist = hg_dataset_specialist.cast(features_specialist)"
   ]
  },
  {
   "cell_type": "code",
   "execution_count": 4,
   "id": "4524e35b",
   "metadata": {},
   "outputs": [
    {
     "data": {
      "application/vnd.jupyter.widget-view+json": {
       "model_id": "b7c73f47ba76462eb4cef8aa1135f94e",
       "version_major": 2,
       "version_minor": 0
      },
      "text/plain": [
       "Map:   0%|          | 0/7960 [00:00<?, ? examples/s]"
      ]
     },
     "metadata": {},
     "output_type": "display_data"
    }
   ],
   "source": [
    "# --- 3. Tokenize and Split ---\n",
    "model_checkpoint = \"distilbert-base-uncased\"\n",
    "tokenizer = AutoTokenizer.from_pretrained(model_checkpoint)\n",
    "\n",
    "def tokenize_function(examples):\n",
    "    return tokenizer(examples[\"text\"], padding=\"max_length\", truncation=True, max_length=512)\n",
    "\n",
    "tokenized_datasets = hg_dataset_specialist.map(tokenize_function, batched=True).remove_columns([\"text\", \"Category\"])\n",
    "tokenized_datasets.set_format(\"torch\")\n",
    "\n",
    "split_dataset = tokenized_datasets.train_test_split(test_size=0.2, stratify_by_column=\"label\")\n",
    "train_dataset = split_dataset[\"train\"]\n",
    "eval_test_split = split_dataset[\"test\"].train_test_split(test_size=0.5, stratify_by_column=\"label\")\n",
    "eval_dataset = eval_test_split[\"train\"]\n",
    "test_dataset = eval_test_split[\"test\"]"
   ]
  },
  {
   "cell_type": "code",
   "execution_count": 5,
   "id": "b34b11af",
   "metadata": {},
   "outputs": [
    {
     "name": "stderr",
     "output_type": "stream",
     "text": [
      "Some weights of DistilBertForSequenceClassification were not initialized from the model checkpoint at distilbert-base-uncased and are newly initialized: ['classifier.bias', 'classifier.weight', 'pre_classifier.bias', 'pre_classifier.weight']\n",
      "You should probably TRAIN this model on a down-stream task to be able to use it for predictions and inference.\n",
      "/opt/anaconda3/lib/python3.12/site-packages/transformers/training_args.py:1594: FutureWarning: `evaluation_strategy` is deprecated and will be removed in version 4.46 of 🤗 Transformers. Use `eval_strategy` instead\n",
      "  warnings.warn(\n"
     ]
    }
   ],
   "source": [
    "# --- 4. Train the Specialist Model ---\n",
    "id2label = {i: label for i, label in enumerate(class_names_specialist)}\n",
    "label2id = {label: i for i, label in enumerate(class_names_specialist)}\n",
    "\n",
    "model_specialist = AutoModelForSequenceClassification.from_pretrained(\n",
    "    model_checkpoint, num_labels=len(class_names_specialist), id2label=id2label, label2id=label2id\n",
    ")\n",
    "\n",
    "training_args_specialist = TrainingArguments(\n",
    "    output_dir=\"distilbert-specialist-classifier\",\n",
    "    num_train_epochs=3,\n",
    "    per_device_train_batch_size=16,\n",
    "    weight_decay=0.01,\n",
    "    evaluation_strategy=\"epoch\",\n",
    "    save_strategy=\"epoch\",\n",
    "    load_best_model_at_end=True,\n",
    "    metric_for_best_model=\"f1\",\n",
    "    greater_is_better=True,\n",
    "    dataloader_num_workers=0,\n",
    "    report_to=[]\n",
    ")"
   ]
  },
  {
   "cell_type": "code",
   "execution_count": 6,
   "id": "1dcf2791",
   "metadata": {},
   "outputs": [
    {
     "name": "stderr",
     "output_type": "stream",
     "text": [
      "/var/folders/yf/9gf2xg3j2q76vf7cw8s4v4tw0000gn/T/ipykernel_37368/4282134588.py:8: FutureWarning: `tokenizer` is deprecated and will be removed in version 5.0.0 for `Trainer.__init__`. Use `processing_class` instead.\n",
      "  trainer_specialist = Trainer(\n"
     ]
    }
   ],
   "source": [
    "def compute_metrics(p: EvalPrediction):\n",
    "    preds = np.argmax(p.predictions, axis=1)\n",
    "    labels = p.label_ids\n",
    "    f1 = f1_score(labels, preds, average=\"weighted\")\n",
    "    acc = accuracy_score(labels, preds)\n",
    "    return {\"accuracy\": acc, \"f1\": f1}\n",
    "\n",
    "trainer_specialist = Trainer(\n",
    "    model=model_specialist,\n",
    "    args=training_args_specialist,\n",
    "    train_dataset=train_dataset,\n",
    "    eval_dataset=eval_dataset,\n",
    "    tokenizer=tokenizer,\n",
    "    compute_metrics=compute_metrics,\n",
    ")"
   ]
  },
  {
   "cell_type": "code",
   "execution_count": 7,
   "id": "ce0aa83c",
   "metadata": {},
   "outputs": [
    {
     "name": "stdout",
     "output_type": "stream",
     "text": [
      "\n",
      "Starting training for the SPECIALIST model...\n"
     ]
    },
    {
     "name": "stderr",
     "output_type": "stream",
     "text": [
      "/opt/anaconda3/lib/python3.12/site-packages/torch/utils/data/dataloader.py:683: UserWarning: 'pin_memory' argument is set as true but not supported on MPS now, then device pinned memory won't be used.\n",
      "  warnings.warn(warn_msg)\n"
     ]
    },
    {
     "data": {
      "text/html": [
       "\n",
       "    <div>\n",
       "      \n",
       "      <progress value='1194' max='1194' style='width:300px; height:20px; vertical-align: middle;'></progress>\n",
       "      [1194/1194 08:49, Epoch 3/3]\n",
       "    </div>\n",
       "    <table border=\"1\" class=\"dataframe\">\n",
       "  <thead>\n",
       " <tr style=\"text-align: left;\">\n",
       "      <th>Epoch</th>\n",
       "      <th>Training Loss</th>\n",
       "      <th>Validation Loss</th>\n",
       "      <th>Accuracy</th>\n",
       "      <th>F1</th>\n",
       "    </tr>\n",
       "  </thead>\n",
       "  <tbody>\n",
       "    <tr>\n",
       "      <td>1</td>\n",
       "      <td>No log</td>\n",
       "      <td>0.949436</td>\n",
       "      <td>0.600503</td>\n",
       "      <td>0.450613</td>\n",
       "    </tr>\n",
       "    <tr>\n",
       "      <td>2</td>\n",
       "      <td>0.956400</td>\n",
       "      <td>0.952011</td>\n",
       "      <td>0.600503</td>\n",
       "      <td>0.450613</td>\n",
       "    </tr>\n",
       "    <tr>\n",
       "      <td>3</td>\n",
       "      <td>0.950900</td>\n",
       "      <td>0.950065</td>\n",
       "      <td>0.600503</td>\n",
       "      <td>0.450613</td>\n",
       "    </tr>\n",
       "  </tbody>\n",
       "</table><p>"
      ],
      "text/plain": [
       "<IPython.core.display.HTML object>"
      ]
     },
     "metadata": {},
     "output_type": "display_data"
    },
    {
     "name": "stderr",
     "output_type": "stream",
     "text": [
      "/opt/anaconda3/lib/python3.12/site-packages/torch/utils/data/dataloader.py:683: UserWarning: 'pin_memory' argument is set as true but not supported on MPS now, then device pinned memory won't be used.\n",
      "  warnings.warn(warn_msg)\n",
      "/opt/anaconda3/lib/python3.12/site-packages/torch/utils/data/dataloader.py:683: UserWarning: 'pin_memory' argument is set as true but not supported on MPS now, then device pinned memory won't be used.\n",
      "  warnings.warn(warn_msg)\n",
      "/opt/anaconda3/lib/python3.12/site-packages/torch/utils/data/dataloader.py:683: UserWarning: 'pin_memory' argument is set as true but not supported on MPS now, then device pinned memory won't be used.\n",
      "  warnings.warn(warn_msg)\n"
     ]
    },
    {
     "name": "stdout",
     "output_type": "stream",
     "text": [
      "Specialist model training complete.\n",
      "\n",
      "Evaluating the Specialist model...\n"
     ]
    },
    {
     "name": "stderr",
     "output_type": "stream",
     "text": [
      "/opt/anaconda3/lib/python3.12/site-packages/torch/utils/data/dataloader.py:683: UserWarning: 'pin_memory' argument is set as true but not supported on MPS now, then device pinned memory won't be used.\n",
      "  warnings.warn(warn_msg)\n"
     ]
    },
    {
     "data": {
      "text/html": [],
      "text/plain": [
       "<IPython.core.display.HTML object>"
      ]
     },
     "metadata": {},
     "output_type": "display_data"
    },
    {
     "name": "stdout",
     "output_type": "stream",
     "text": [
      "\n",
      "Accuracy: 0.5992\n",
      "\n",
      "Classification Report:\n",
      "                 precision    recall  f1-score   support\n",
      "\n",
      "        Billing       0.60      1.00      0.75       477\n",
      "  General Query       0.00      0.00      0.00       154\n",
      "Technical Issue       0.00      0.00      0.00       165\n",
      "\n",
      "       accuracy                           0.60       796\n",
      "      macro avg       0.20      0.33      0.25       796\n",
      "   weighted avg       0.36      0.60      0.45       796\n",
      "\n",
      "\n",
      "Best Specialist model explicitly saved to 'best-specialist-model'\n"
     ]
    },
    {
     "name": "stderr",
     "output_type": "stream",
     "text": [
      "/opt/anaconda3/lib/python3.12/site-packages/sklearn/metrics/_classification.py:1565: UndefinedMetricWarning: Precision is ill-defined and being set to 0.0 in labels with no predicted samples. Use `zero_division` parameter to control this behavior.\n",
      "  _warn_prf(average, modifier, f\"{metric.capitalize()} is\", len(result))\n",
      "/opt/anaconda3/lib/python3.12/site-packages/sklearn/metrics/_classification.py:1565: UndefinedMetricWarning: Precision is ill-defined and being set to 0.0 in labels with no predicted samples. Use `zero_division` parameter to control this behavior.\n",
      "  _warn_prf(average, modifier, f\"{metric.capitalize()} is\", len(result))\n",
      "/opt/anaconda3/lib/python3.12/site-packages/sklearn/metrics/_classification.py:1565: UndefinedMetricWarning: Precision is ill-defined and being set to 0.0 in labels with no predicted samples. Use `zero_division` parameter to control this behavior.\n",
      "  _warn_prf(average, modifier, f\"{metric.capitalize()} is\", len(result))\n"
     ]
    }
   ],
   "source": [
    "print(\"\\nStarting training for the SPECIALIST model...\")\n",
    "trainer_specialist.train()\n",
    "print(\"Specialist model training complete.\")\n",
    "\n",
    "# --- 5. Evaluate and Save the Specialist Model ---\n",
    "print(\"\\nEvaluating the Specialist model...\")\n",
    "predictions = trainer_specialist.predict(test_dataset)\n",
    "y_pred = np.argmax(predictions.predictions, axis=1)\n",
    "y_true = np.array(test_dataset['label'])\n",
    "\n",
    "print(f\"\\nAccuracy: {accuracy_score(y_true, y_pred):.4f}\")\n",
    "print(\"\\nClassification Report:\")\n",
    "print(classification_report(y_true, y_pred, target_names=class_names_specialist))\n",
    "\n",
    "trainer_specialist.save_model(\"best-specialist-model\")\n",
    "print(\"\\nBest Specialist model explicitly saved to 'best-specialist-model'\")"
   ]
  }
 ],
 "metadata": {
  "kernelspec": {
   "display_name": "Python 3",
   "language": "python",
   "name": "python3"
  },
  "language_info": {
   "codemirror_mode": {
    "name": "ipython",
    "version": 3
   },
   "file_extension": ".py",
   "mimetype": "text/x-python",
   "name": "python",
   "nbconvert_exporter": "python",
   "pygments_lexer": "ipython3",
   "version": "3.12.2"
  }
 },
 "nbformat": 4,
 "nbformat_minor": 5
}
