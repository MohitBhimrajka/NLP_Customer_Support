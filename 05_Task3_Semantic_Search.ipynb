{
 "cells": [
  {
   "cell_type": "code",
   "execution_count": 1,
   "id": "104a39de",
   "metadata": {},
   "outputs": [],
   "source": [
    "import pandas as pd\n",
    "import numpy as np\n",
    "from sklearn.metrics.pairwise import cosine_similarity\n",
    "import torch\n",
    "from transformers import AutoTokenizer, AutoModel"
   ]
  },
  {
   "cell_type": "code",
   "execution_count": 2,
   "id": "ee636b3f",
   "metadata": {},
   "outputs": [
    {
     "name": "stdout",
     "output_type": "stream",
     "text": [
      "Knowledge Base created successfully.\n",
      "Number of unique, solved tickets in the Knowledge Base: 2769\n",
      "\n",
      "Example entries from the Knowledge Base:\n",
      "   Ticket ID                                      combined_text  \\\n",
      "0          3  Network problem | facing problem productpurcha...   \n",
      "1          4  Account access | issue productpurchased please...   \n",
      "2          5  Data loss | issue productpurchased please assi...   \n",
      "3         11  Data loss | issue productpurchased please assi...   \n",
      "4         12  Software bug | issue productpurchased please a...   \n",
      "\n",
      "                                          Resolution  \n",
      "0       Case maybe show recently my computer follow.  \n",
      "1      Try capital clearly never color toward story.  \n",
      "2                        West decision evidence bit.  \n",
      "3              Measure tonight surface feel forward.  \n",
      "4  Measure there house management pick knowledge ...  \n"
     ]
    }
   ],
   "source": [
    "# --- 1. Load Data and Create the Knowledge Base ---\n",
    "\n",
    "# Load the full processed dataset\n",
    "df_full = pd.read_parquet('processed_customer_support_data.parquet')\n",
    "\n",
    "# Create the combined_text feature we'll use for queries\n",
    "df_full['combined_text'] = df_full['Ticket Subject'] + \" | \" + df_full['Cleaned_Description']\n",
    "\n",
    "# Create our \"Knowledge Base\" by filtering for closed tickets that have a resolution text\n",
    "# We also drop duplicates to ensure our knowledge base is clean\n",
    "knowledge_base_df = df_full[df_full['Ticket Status'] == 'Closed'].dropna(subset=['Resolution']).drop_duplicates(subset=['Resolution']).copy()\n",
    "\n",
    "# Keep only the essential columns for the knowledge base\n",
    "knowledge_base_df = knowledge_base_df[['Ticket ID', 'combined_text', 'Resolution']].reset_index(drop=True)\n",
    "\n",
    "print(\"Knowledge Base created successfully.\")\n",
    "print(f\"Number of unique, solved tickets in the Knowledge Base: {len(knowledge_base_df)}\")\n",
    "\n",
    "# Display some examples from our knowledge base\n",
    "print(\"\\nExample entries from the Knowledge Base:\")\n",
    "print(knowledge_base_df.head())"
   ]
  },
  {
   "cell_type": "code",
   "execution_count": 3,
   "id": "afea7346",
   "metadata": {},
   "outputs": [
    {
     "name": "stdout",
     "output_type": "stream",
     "text": [
      "\n",
      "Model loaded and moved to cpu.\n"
     ]
    }
   ],
   "source": [
    "# --- 2. Load the Fine-Tuned Transformer Model ---\n",
    "\n",
    "# We'll use the same model as before to generate embeddings\n",
    "model_name = \"best-gatekeeper-model\"\n",
    "tokenizer = AutoTokenizer.from_pretrained(model_name)\n",
    "model = AutoModel.from_pretrained(model_name)\n",
    "\n",
    "# Ensure the model is in evaluation mode and on the correct device\n",
    "model.eval()\n",
    "device = torch.device(\"cuda\" if torch.cuda.is_available() else \"cpu\")\n",
    "model.to(device)\n",
    "\n",
    "print(f\"\\nModel loaded and moved to {device}.\")"
   ]
  },
  {
   "cell_type": "code",
   "execution_count": 4,
   "id": "d72c2cfc",
   "metadata": {},
   "outputs": [
    {
     "name": "stdout",
     "output_type": "stream",
     "text": [
      "Generating embeddings for the resolutions...\n",
      "Resolution embeddings generated.\n",
      "Shape of the resolution embedding matrix: (2769, 768)\n",
      "\n",
      "Generating embeddings for the original problems...\n",
      "Problem embeddings generated.\n",
      "Shape of the problem embedding matrix: (2769, 768)\n"
     ]
    }
   ],
   "source": [
    "# --- 3. Generate Embeddings for the Knowledge Base ---\n",
    "\n",
    "# Re-use the embedding function from the previous notebook\n",
    "def get_embeddings(texts, batch_size=32):\n",
    "    all_embs = []\n",
    "    for i in range(0, len(texts), batch_size):\n",
    "        batch = texts[i:i+batch_size]\n",
    "        inputs = tokenizer(batch, padding=True, truncation=True, return_tensors=\"pt\", max_length=512)\n",
    "        inputs = {k: v.to(device) for k, v in inputs.items()}\n",
    "        with torch.no_grad():\n",
    "            outputs = model(**inputs)\n",
    "        embs = outputs.last_hidden_state.mean(dim=1).cpu().numpy()\n",
    "        all_embs.append(embs)\n",
    "    return np.vstack(all_embs)\n",
    "\n",
    "# Generate embeddings for the RESOLUTIONS (this is our searchable index)\n",
    "print(\"Generating embeddings for the resolutions...\")\n",
    "resolution_embeddings = get_embeddings(knowledge_base_df['Resolution'].tolist())\n",
    "print(\"Resolution embeddings generated.\")\n",
    "print(f\"Shape of the resolution embedding matrix: {resolution_embeddings.shape}\")\n",
    "\n",
    "# Generate embeddings for the original PROBLEMS (for testing purposes)\n",
    "print(\"\\nGenerating embeddings for the original problems...\")\n",
    "problem_embeddings = get_embeddings(knowledge_base_df['combined_text'].tolist())\n",
    "print(\"Problem embeddings generated.\")\n",
    "print(f\"Shape of the problem embedding matrix: {problem_embeddings.shape}\")"
   ]
  },
  {
   "cell_type": "code",
   "execution_count": 5,
   "id": "9433aca1",
   "metadata": {},
   "outputs": [
    {
     "name": "stdout",
     "output_type": "stream",
     "text": [
      "--- Searching for solutions to the following ticket ---\n",
      "Query Text: Product compatibility | issue productpurchased please assist seller sold item receive replacement exchange item full refund exchange immediately upon ive already contacted customer support multiple time issue remains unresolved\n",
      "\n",
      "--- The ACTUAL resolution for this ticket is ---\n",
      "Actual Resolution: Certain myself month past tree benefit.\n",
      "\n",
      "--- Top 5 Search Results from the Knowledge Base ---\n",
      "--- Result 1914 (Score: 0.9296) ---\n",
      "Original Problem: Installation support | issue productpurchased please assist price changed brandid productname productname productbrandid ive already contacted customer support multiple time issue remains unresolved\n",
      "Found Resolution: Example issue behavior financial stuff record seek far.\n",
      "\n",
      "--- Result 2711 (Score: 0.9252) ---\n",
      "Original Problem: Data loss | issue productpurchased please assist issue productpurchased please assist help working issue ive performed factory reset productpurchased hoping would resolve problem didnt help\n",
      "Found Resolution: Performance check action try bring develop major.\n",
      "\n",
      "--- Result 2043 (Score: 0.9243) ---\n",
      "Original Problem: Network problem | issue productpurchased please assist ive posted first batch site good start list thing need seems one might ive tried different setting configuration productpurchased issue persists\n",
      "Found Resolution: Worker involve sure pay movement pull customer.\n",
      "\n",
      "--- Result 1823 (Score: 0.9227) ---\n",
      "Original Problem: Product setup | issue productpurchased please assist issue productpurchased user bought need assistance soon possible affecting work productivity\n",
      "Found Resolution: Company activity reduce employee boy listen threat participant.\n",
      "\n",
      "--- Result 259 (Score: 0.9218) ---\n",
      "Original Problem: Product compatibility | trouble connecting productpurchased home wifi network doesnt detect network although device connecting fine done resolve issue ive checked device setting made sure everything configured correctly\n",
      "Found Resolution: Show message lose strong forget lead agency property.\n",
      "\n"
     ]
    }
   ],
   "source": [
    "# --- 4. Build the Semantic Search Function ---\n",
    "\n",
    "def search_knowledge_base(query_text: str, top_n: int = 5):\n",
    "    \"\"\"\n",
    "    Searches the knowledge base for the most relevant resolutions to a query.\n",
    "    \"\"\"\n",
    "    # Generate the embedding for the query\n",
    "    query_embedding = get_embeddings([query_text])\n",
    "    \n",
    "    # Calculate cosine similarity against all resolution embeddings\n",
    "    similarity_scores = cosine_similarity(query_embedding, resolution_embeddings)\n",
    "    \n",
    "    # Get the top N results\n",
    "    top_indices = np.argsort(similarity_scores[0])[-top_n:][::-1]\n",
    "    top_scores = similarity_scores[0][top_indices]\n",
    "    \n",
    "    # Get the results from the knowledge base DataFrame\n",
    "    results_df = knowledge_base_df.iloc[top_indices].copy()\n",
    "    results_df['similarity_score'] = top_scores\n",
    "    \n",
    "    # We are interested in the original problem and the found resolution\n",
    "    return results_df[['combined_text', 'Resolution', 'similarity_score']]\n",
    "\n",
    "# --- 5. Test the Semantic Search Engine ---\n",
    "\n",
    "# Let's take a sample problem from our knowledge base to use as a query\n",
    "# We'll use the 10th entry.\n",
    "sample_index = 10\n",
    "query_ticket_text = knowledge_base_df['combined_text'].iloc[sample_index]\n",
    "actual_resolution = knowledge_base_df['Resolution'].iloc[sample_index]\n",
    "\n",
    "print(f\"--- Searching for solutions to the following ticket ---\")\n",
    "print(f\"Query Text: {query_ticket_text}\\n\")\n",
    "print(f\"--- The ACTUAL resolution for this ticket is ---\")\n",
    "print(f\"Actual Resolution: {actual_resolution}\\n\")\n",
    "\n",
    "# Now, let's use our search engine to find the best matching resolutions\n",
    "search_results = search_knowledge_base(query_text=query_ticket_text)\n",
    "\n",
    "print(f\"--- Top 5 Search Results from the Knowledge Base ---\")\n",
    "# We'll print each result for better readability\n",
    "for i, row in search_results.iterrows():\n",
    "    print(f\"--- Result {i+1} (Score: {row['similarity_score']:.4f}) ---\")\n",
    "    print(f\"Original Problem: {row['combined_text']}\")\n",
    "    print(f\"Found Resolution: {row['Resolution']}\\n\")"
   ]
  }
 ],
 "metadata": {
  "kernelspec": {
   "display_name": "Python 3",
   "language": "python",
   "name": "python3"
  },
  "language_info": {
   "codemirror_mode": {
    "name": "ipython",
    "version": 3
   },
   "file_extension": ".py",
   "mimetype": "text/x-python",
   "name": "python",
   "nbconvert_exporter": "python",
   "pygments_lexer": "ipython3",
   "version": "3.12.2"
  }
 },
 "nbformat": 4,
 "nbformat_minor": 5
}
